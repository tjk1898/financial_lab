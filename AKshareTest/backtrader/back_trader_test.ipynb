{
 "cells": [
  {
   "cell_type": "code",
   "execution_count": 1,
   "metadata": {
    "collapsed": true
   },
   "outputs": [],
   "source": [
    "import datetime  #\n",
    "import os.path  # 路径管理\n",
    "import sys  # 获取当前运行脚本的路径 (in argv[0])\n",
    "\n",
    "#导入backtrader框架\n",
    "import backtrader as bt\n",
    "\n"
   ]
  },
  {
   "cell_type": "markdown",
   "source": [
    "# 一个完整的样例\n",
    "1. 数据加载，\n",
    "2. 策略加载，\n",
    "3. 运行回测，\n",
    "4. 添加参数，\n",
    "5. 添加指标"
   ],
   "metadata": {
    "collapsed": false,
    "pycharm": {
     "name": "#%% md\n"
    }
   }
  },
  {
   "cell_type": "code",
   "execution_count": null,
   "outputs": [],
   "source": [
    "# 创建策略继承bt.Strategy\n",
    "class TestStrategy(bt.Strategy):\n",
    "    params = (\n",
    "        # 均线参数设置15天，15日均线\n",
    "        ('maperiod', 15),\n",
    "    )\n",
    "\n",
    "    def log(self, txt, dt=None):\n",
    "        # 记录策略的执行日志\n",
    "        dt = dt or self.datas[0].datetime.date(0)\n",
    "        print('%s, %s' % (dt.isoformat(), txt))\n",
    "\n",
    "    def __init__(self):\n",
    "        # 保存收盘价的引用\n",
    "        self.dataclose = self.datas[0].close\n",
    "        # 跟踪挂单\n",
    "        self.order = None\n",
    "        # 买入价格和手续费\n",
    "        self.buyprice = None\n",
    "        self.buycomm = None\n",
    "        # 加入均线指标\n",
    "        self.sma = bt.indicators.SimpleMovingAverage(self.datas[0], period=self.params.maperiod)\n",
    "\n",
    "\n",
    "    # 订单状态通知，买入卖出都是下单\n",
    "    def notify_order(self, order):\n",
    "        if order.status in [order.Submitted, order.Accepted]:\n",
    "            # broker 提交/接受了，买/卖订单则什么都不做\n",
    "            return\n",
    "\n",
    "        # 检查一个订单是否完成\n",
    "        # 注意: 当资金不足时，broker会拒绝订单\n",
    "        if order.status in [order.Completed]:\n",
    "            if order.isbuy():\n",
    "                self.log(\n",
    "                    '已买入, 价格: %.2f, 费用: %.2f, 佣金 %.2f' %\n",
    "                    (order.executed.price,\n",
    "                     order.executed.value,\n",
    "                     order.executed.comm))\n",
    "\n",
    "                self.buyprice = order.executed.price\n",
    "                self.buycomm = order.executed.comm\n",
    "            elif order.issell():\n",
    "                self.log('已卖出, 价格: %.2f, 费用: %.2f, 佣金 %.2f' %\n",
    "                         (order.executed.price,\n",
    "                          order.executed.value,\n",
    "                          order.executed.comm))\n",
    "            # 记录当前交易数量\n",
    "            self.bar_executed = len(self)\n",
    "\n",
    "        elif order.status in [order.Canceled, order.Margin, order.Rejected]:\n",
    "            self.log('订单取消/保证金不足/拒绝')\n",
    "\n",
    "        # 其他状态记录为：无挂起订单\n",
    "        self.order = None\n",
    "\n",
    "    # 交易状态通知，一买一卖算交易\n",
    "    def notify_trade(self, trade):\n",
    "        if not trade.isclosed:\n",
    "            return\n",
    "        self.log('交易利润, 毛利润 %.2f, 净利润 %.2f' %\n",
    "                 (trade.pnl, trade.pnlcomm))\n",
    "\n",
    "    def next(self):\n",
    "        # 记录收盘价\n",
    "        self.log('Close, %.2f' % self.dataclose[0])\n",
    "\n",
    "        # 如果有订单正在挂起，不操作\n",
    "        if self.order:\n",
    "            return\n",
    "\n",
    "        # 如果没有持仓则买入\n",
    "        if not self.position:\n",
    "            # 今天的收盘价在均线价格之上\n",
    "            if self.dataclose[0] > self.sma[0]:\n",
    "                # 买入\n",
    "                self.log('买入单, %.2f' % self.dataclose[0])\n",
    "                # 跟踪订单避免重复\n",
    "                self.order = self.buy()\n",
    "        else:\n",
    "            # 如果已经持仓，收盘价在均线价格之下\n",
    "            if self.dataclose[0] < self.sma[0]:\n",
    "                # 全部卖出\n",
    "                self.log('卖出单, %.2f' % self.dataclose[0])\n",
    "                # 跟踪订单避免重复\n",
    "                self.order = self.sell()"
   ],
   "metadata": {
    "collapsed": false,
    "pycharm": {
     "name": "#%%\n"
    }
   }
  },
  {
   "cell_type": "code",
   "execution_count": null,
   "outputs": [],
   "source": [
    "# 创建Cerebro引擎\n",
    "cerebro = bt.Cerebro()\n",
    "# Cerebro引擎在后台创建broker(经纪人)，系统默认资金量为10000\n",
    "\n",
    "# 获取当前运行脚本所在目录\n",
    "modpath = os.path.dirname(os.path.abspath(sys.argv[0]))\n",
    "# 创建交易数据集\n",
    "datapath = os.path.join(modpath, '../../datas/orcl-1995-2014.txt')\n",
    "# 创建交易数据集\n",
    "data = bt.feeds.YahooFinanceCSVData(\n",
    "    dataname=datapath,\n",
    "    # 数据必须大于fromdate\n",
    "    fromdate=datetime.datetime(2000, 1, 1),\n",
    "    # 数据必须小于todate\n",
    "    todate=datetime.datetime(2000, 12, 31),\n",
    "    reverse=False)\n",
    "\n",
    "# 加载交易数据\n",
    "cerebro.adddata(data)\n",
    "\n",
    "# 为Cerebro引擎添加策略, 优化策略\n",
    "# 使用参数来设定10到31天的均线,看看均线参数下那个收益最好\n",
    "strats = cerebro.optstrategy(\n",
    "    TestStrategy,\n",
    "    maperiod=range(10, 31))\n",
    "\n",
    "# 设置投资金额100000.0\n",
    "cerebro.broker.setcash(100000.0)\n",
    "# 引擎运行前打印期出资金\n",
    "print('组合期初资金: %.2f' % cerebro.broker.getvalue())\n",
    "cerebro.run()\n",
    "# 引擎运行后打期末资金\n",
    "print('组合期末资金: %.2f' % cerebro.broker.getvalue())\n",
    "# 绘制图像\n",
    "cerebro.plot()"
   ],
   "metadata": {
    "collapsed": false,
    "pycharm": {
     "name": "#%%\n"
    }
   }
  }
 ],
 "metadata": {
  "kernelspec": {
   "display_name": "Python 3",
   "language": "python",
   "name": "python3"
  },
  "language_info": {
   "codemirror_mode": {
    "name": "ipython",
    "version": 2
   },
   "file_extension": ".py",
   "mimetype": "text/x-python",
   "name": "python",
   "nbconvert_exporter": "python",
   "pygments_lexer": "ipython2",
   "version": "2.7.6"
  }
 },
 "nbformat": 4,
 "nbformat_minor": 0
}