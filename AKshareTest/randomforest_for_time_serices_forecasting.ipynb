{
 "cells": [
  {
   "cell_type": "code",
   "execution_count": 1,
   "metadata": {
    "collapsed": true
   },
   "outputs": [],
   "source": [
    "from numpy import array\n",
    "from numpy import asarray\n",
    "from pandas import read_csv\n",
    "from pandas import DataFrame\n",
    "from pandas import concat\n",
    "from sklearn.metrics import mean_absolute_error\n",
    "from sklearn.ensemble import RandomForestRegressor\n",
    "from matplotlib import pyplot"
   ]
  },
  {
   "cell_type": "code",
   "execution_count": 2,
   "outputs": [],
   "source": [
    "# transform a time series dataset into a supervised learning dataset\n",
    "# 以n_in+n_out为一个窗口，1为单位向后移动，把一维的data，转换为二维数据\n",
    "# 例如:n_in,n_out,以1为窗口，逐一向后移动\n",
    "# [1,2,3,4,5,6,7,8] -> [[1,2],[2,3],[3,4],[4,5],[5,6],[6,7],[7,8]]\n",
    "def series_to_supervised(data, n_in=1, n_out=1, dropnan=True):\n",
    "    n_vars = 1 if type(data) is list else data.shape[1]\n",
    "    df = DataFrame(data)\n",
    "    cols = list()\n",
    "    # input sequence (t-n, ... t-1)\n",
    "    for i in range(n_in, 0, -1):\n",
    "        cols.append(df.shift(i))\n",
    "    # forecast sequence (t, t+1, ... t+n)\n",
    "    for i in range(0, n_out):\n",
    "        cols.append(df.shift(-i))\n",
    "    # put it all together\n",
    "    agg = concat(cols, axis=1)\n",
    "    # drop rows with NaN values\n",
    "    if dropnan:\n",
    "        agg.dropna(inplace=True)\n",
    "    return agg.values"
   ],
   "metadata": {
    "collapsed": false,
    "pycharm": {
     "name": "#%%\n"
    }
   }
  },
  {
   "cell_type": "code",
   "execution_count": 3,
   "outputs": [],
   "source": [
    "testData = [1,2,3,4,5,6,7,8]\n",
    "test1 = series_to_supervised(testData,3)"
   ],
   "metadata": {
    "collapsed": false,
    "pycharm": {
     "name": "#%%\n"
    }
   }
  },
  {
   "cell_type": "code",
   "execution_count": 4,
   "outputs": [],
   "source": [
    "# split a univariate dataset into train/test sets\n",
    "def train_test_split(data, n_test):\n",
    "    return data[:-n_test, :], data[-n_test:, :]"
   ],
   "metadata": {
    "collapsed": false,
    "pycharm": {
     "name": "#%%\n"
    }
   }
  },
  {
   "cell_type": "code",
   "execution_count": 5,
   "outputs": [
    {
     "name": "stdout",
     "output_type": "stream",
     "text": [
      "(5, 4)\n",
      "(2, 4)\n",
      "(3, 4)\n"
     ]
    }
   ],
   "source": [
    "print(test1.shape)\n",
    "trans,test = train_test_split(test1,3)\n",
    "print(trans.shape)\n",
    "print(test.shape)"
   ],
   "metadata": {
    "collapsed": false,
    "pycharm": {
     "name": "#%%\n"
    }
   }
  },
  {
   "cell_type": "code",
   "execution_count": 6,
   "outputs": [],
   "source": [
    "# fit an random forest model and make a one step prediction\n",
    "def random_forest_forecast(train, testX):\n",
    "    # transform list into array\n",
    "    train = asarray(train)\n",
    "    # split into input and output columns\n",
    "    trainX, trainy = train[:, :-1], train[:, -1]\n",
    "    # fit model\n",
    "    model = RandomForestRegressor(n_estimators=1000)\n",
    "    model.fit(trainX, trainy)\n",
    "    # make a one-step prediction\n",
    "    yhat = model.predict([testX])\n",
    "    return yhat[0]"
   ],
   "metadata": {
    "collapsed": false,
    "pycharm": {
     "name": "#%%\n"
    }
   }
  },
  {
   "cell_type": "code",
   "execution_count": 7,
   "outputs": [],
   "source": [
    "# walk-forward validation for univariate data\n",
    "def walk_forward_validation(data, n_test):\n",
    "    predictions = list()\n",
    "    # split dataset\n",
    "    train, test = train_test_split(data, n_test)\n",
    "    # seed history with training dataset\n",
    "    history = [x for x in train]\n",
    "    # step over each time-step in the test set\n",
    "    for i in range(len(test)):\n",
    "        # split test row into input and output columns\n",
    "        testX, testy = test[i, :-1], test[i, -1]\n",
    "        # fit model on history and make a prediction\n",
    "        yhat = random_forest_forecast(history, testX)\n",
    "        # store forecast in list of predictions\n",
    "        predictions.append(yhat)\n",
    "        # add actual observation to history for the next loop\n",
    "        history.append(test[i])\n",
    "        # summarize progress\n",
    "        print('>expected=%.1f, predicted=%.1f' % (testy, yhat))\n",
    "    # estimate prediction error\n",
    "    error = mean_absolute_error(test[:, -1], predictions)\n",
    "    return error, test[:, -1], predictions"
   ],
   "metadata": {
    "collapsed": false,
    "pycharm": {
     "name": "#%%\n"
    }
   }
  },
  {
   "cell_type": "code",
   "execution_count": 8,
   "outputs": [],
   "source": [
    "# load the dataset\n",
    "series = read_csv('source/daily-total-female-births.csv', header=0, index_col=0)"
   ],
   "metadata": {
    "collapsed": false,
    "pycharm": {
     "name": "#%%\n"
    }
   }
  },
  {
   "cell_type": "code",
   "execution_count": 9,
   "outputs": [
    {
     "data": {
      "text/plain": "            Births\nDate              \n1959-01-01      35\n1959-01-02      32\n1959-01-03      30\n1959-01-04      31\n1959-01-05      44\n...            ...\n1959-12-27      37\n1959-12-28      52\n1959-12-29      48\n1959-12-30      55\n1959-12-31      50\n\n[365 rows x 1 columns]",
      "text/html": "<div>\n<style scoped>\n    .dataframe tbody tr th:only-of-type {\n        vertical-align: middle;\n    }\n\n    .dataframe tbody tr th {\n        vertical-align: top;\n    }\n\n    .dataframe thead th {\n        text-align: right;\n    }\n</style>\n<table border=\"1\" class=\"dataframe\">\n  <thead>\n    <tr style=\"text-align: right;\">\n      <th></th>\n      <th>Births</th>\n    </tr>\n    <tr>\n      <th>Date</th>\n      <th></th>\n    </tr>\n  </thead>\n  <tbody>\n    <tr>\n      <th>1959-01-01</th>\n      <td>35</td>\n    </tr>\n    <tr>\n      <th>1959-01-02</th>\n      <td>32</td>\n    </tr>\n    <tr>\n      <th>1959-01-03</th>\n      <td>30</td>\n    </tr>\n    <tr>\n      <th>1959-01-04</th>\n      <td>31</td>\n    </tr>\n    <tr>\n      <th>1959-01-05</th>\n      <td>44</td>\n    </tr>\n    <tr>\n      <th>...</th>\n      <td>...</td>\n    </tr>\n    <tr>\n      <th>1959-12-27</th>\n      <td>37</td>\n    </tr>\n    <tr>\n      <th>1959-12-28</th>\n      <td>52</td>\n    </tr>\n    <tr>\n      <th>1959-12-29</th>\n      <td>48</td>\n    </tr>\n    <tr>\n      <th>1959-12-30</th>\n      <td>55</td>\n    </tr>\n    <tr>\n      <th>1959-12-31</th>\n      <td>50</td>\n    </tr>\n  </tbody>\n</table>\n<p>365 rows × 1 columns</p>\n</div>"
     },
     "execution_count": 9,
     "metadata": {},
     "output_type": "execute_result"
    }
   ],
   "source": [
    "series"
   ],
   "metadata": {
    "collapsed": false,
    "pycharm": {
     "name": "#%%\n"
    }
   }
  },
  {
   "cell_type": "code",
   "execution_count": 10,
   "outputs": [],
   "source": [
    "values = series.values"
   ],
   "metadata": {
    "collapsed": false,
    "pycharm": {
     "name": "#%%\n"
    }
   }
  },
  {
   "cell_type": "code",
   "execution_count": 11,
   "outputs": [
    {
     "name": "stdout",
     "output_type": "stream",
     "text": [
      "[[35]\n",
      " [32]\n",
      " [30]\n",
      " [31]\n",
      " [44]\n",
      " [29]\n",
      " [45]\n",
      " [43]\n",
      " [38]\n",
      " [27]\n",
      " [38]\n",
      " [33]\n",
      " [55]\n",
      " [47]\n",
      " [45]\n",
      " [37]\n",
      " [50]\n",
      " [43]\n",
      " [41]\n",
      " [52]\n",
      " [34]\n",
      " [53]\n",
      " [39]\n",
      " [32]\n",
      " [37]\n",
      " [43]\n",
      " [39]\n",
      " [35]\n",
      " [44]\n",
      " [38]\n",
      " [24]\n",
      " [23]\n",
      " [31]\n",
      " [44]\n",
      " [38]\n",
      " [50]\n",
      " [38]\n",
      " [51]\n",
      " [31]\n",
      " [31]\n",
      " [51]\n",
      " [36]\n",
      " [45]\n",
      " [51]\n",
      " [34]\n",
      " [52]\n",
      " [47]\n",
      " [45]\n",
      " [46]\n",
      " [39]\n",
      " [48]\n",
      " [37]\n",
      " [35]\n",
      " [52]\n",
      " [42]\n",
      " [45]\n",
      " [39]\n",
      " [37]\n",
      " [30]\n",
      " [35]\n",
      " [28]\n",
      " [45]\n",
      " [34]\n",
      " [36]\n",
      " [50]\n",
      " [44]\n",
      " [39]\n",
      " [32]\n",
      " [39]\n",
      " [45]\n",
      " [43]\n",
      " [39]\n",
      " [31]\n",
      " [27]\n",
      " [30]\n",
      " [42]\n",
      " [46]\n",
      " [41]\n",
      " [36]\n",
      " [45]\n",
      " [46]\n",
      " [43]\n",
      " [38]\n",
      " [34]\n",
      " [35]\n",
      " [56]\n",
      " [36]\n",
      " [32]\n",
      " [50]\n",
      " [41]\n",
      " [39]\n",
      " [41]\n",
      " [47]\n",
      " [34]\n",
      " [36]\n",
      " [33]\n",
      " [35]\n",
      " [38]\n",
      " [38]\n",
      " [34]\n",
      " [53]\n",
      " [34]\n",
      " [34]\n",
      " [38]\n",
      " [35]\n",
      " [32]\n",
      " [42]\n",
      " [34]\n",
      " [46]\n",
      " [30]\n",
      " [46]\n",
      " [45]\n",
      " [54]\n",
      " [34]\n",
      " [37]\n",
      " [35]\n",
      " [40]\n",
      " [42]\n",
      " [58]\n",
      " [51]\n",
      " [32]\n",
      " [35]\n",
      " [38]\n",
      " [33]\n",
      " [39]\n",
      " [47]\n",
      " [38]\n",
      " [52]\n",
      " [30]\n",
      " [34]\n",
      " [40]\n",
      " [35]\n",
      " [42]\n",
      " [41]\n",
      " [42]\n",
      " [38]\n",
      " [24]\n",
      " [34]\n",
      " [43]\n",
      " [36]\n",
      " [55]\n",
      " [41]\n",
      " [45]\n",
      " [41]\n",
      " [37]\n",
      " [43]\n",
      " [39]\n",
      " [33]\n",
      " [43]\n",
      " [40]\n",
      " [38]\n",
      " [45]\n",
      " [46]\n",
      " [34]\n",
      " [35]\n",
      " [48]\n",
      " [51]\n",
      " [36]\n",
      " [33]\n",
      " [46]\n",
      " [42]\n",
      " [48]\n",
      " [34]\n",
      " [41]\n",
      " [35]\n",
      " [40]\n",
      " [34]\n",
      " [30]\n",
      " [36]\n",
      " [40]\n",
      " [39]\n",
      " [45]\n",
      " [38]\n",
      " [47]\n",
      " [33]\n",
      " [30]\n",
      " [42]\n",
      " [43]\n",
      " [41]\n",
      " [41]\n",
      " [59]\n",
      " [43]\n",
      " [45]\n",
      " [38]\n",
      " [37]\n",
      " [45]\n",
      " [42]\n",
      " [57]\n",
      " [46]\n",
      " [51]\n",
      " [41]\n",
      " [47]\n",
      " [26]\n",
      " [35]\n",
      " [44]\n",
      " [41]\n",
      " [42]\n",
      " [36]\n",
      " [45]\n",
      " [45]\n",
      " [45]\n",
      " [47]\n",
      " [38]\n",
      " [42]\n",
      " [35]\n",
      " [36]\n",
      " [39]\n",
      " [45]\n",
      " [43]\n",
      " [47]\n",
      " [36]\n",
      " [41]\n",
      " [50]\n",
      " [39]\n",
      " [41]\n",
      " [46]\n",
      " [64]\n",
      " [45]\n",
      " [34]\n",
      " [38]\n",
      " [44]\n",
      " [48]\n",
      " [46]\n",
      " [44]\n",
      " [37]\n",
      " [39]\n",
      " [44]\n",
      " [45]\n",
      " [33]\n",
      " [44]\n",
      " [38]\n",
      " [46]\n",
      " [46]\n",
      " [40]\n",
      " [39]\n",
      " [44]\n",
      " [48]\n",
      " [50]\n",
      " [41]\n",
      " [42]\n",
      " [51]\n",
      " [41]\n",
      " [44]\n",
      " [38]\n",
      " [68]\n",
      " [40]\n",
      " [42]\n",
      " [51]\n",
      " [44]\n",
      " [45]\n",
      " [36]\n",
      " [57]\n",
      " [44]\n",
      " [42]\n",
      " [53]\n",
      " [42]\n",
      " [34]\n",
      " [40]\n",
      " [56]\n",
      " [44]\n",
      " [53]\n",
      " [55]\n",
      " [39]\n",
      " [59]\n",
      " [55]\n",
      " [73]\n",
      " [55]\n",
      " [44]\n",
      " [43]\n",
      " [40]\n",
      " [47]\n",
      " [51]\n",
      " [56]\n",
      " [49]\n",
      " [54]\n",
      " [56]\n",
      " [47]\n",
      " [44]\n",
      " [43]\n",
      " [42]\n",
      " [45]\n",
      " [50]\n",
      " [48]\n",
      " [43]\n",
      " [40]\n",
      " [59]\n",
      " [41]\n",
      " [42]\n",
      " [51]\n",
      " [49]\n",
      " [45]\n",
      " [43]\n",
      " [42]\n",
      " [38]\n",
      " [47]\n",
      " [38]\n",
      " [36]\n",
      " [42]\n",
      " [35]\n",
      " [28]\n",
      " [44]\n",
      " [36]\n",
      " [45]\n",
      " [46]\n",
      " [48]\n",
      " [49]\n",
      " [43]\n",
      " [42]\n",
      " [59]\n",
      " [45]\n",
      " [52]\n",
      " [46]\n",
      " [42]\n",
      " [40]\n",
      " [40]\n",
      " [45]\n",
      " [35]\n",
      " [35]\n",
      " [40]\n",
      " [39]\n",
      " [33]\n",
      " [42]\n",
      " [47]\n",
      " [51]\n",
      " [44]\n",
      " [40]\n",
      " [57]\n",
      " [49]\n",
      " [45]\n",
      " [49]\n",
      " [51]\n",
      " [46]\n",
      " [44]\n",
      " [52]\n",
      " [45]\n",
      " [32]\n",
      " [46]\n",
      " [41]\n",
      " [34]\n",
      " [33]\n",
      " [36]\n",
      " [49]\n",
      " [43]\n",
      " [43]\n",
      " [34]\n",
      " [39]\n",
      " [35]\n",
      " [52]\n",
      " [47]\n",
      " [52]\n",
      " [39]\n",
      " [40]\n",
      " [42]\n",
      " [42]\n",
      " [53]\n",
      " [39]\n",
      " [40]\n",
      " [38]\n",
      " [44]\n",
      " [34]\n",
      " [37]\n",
      " [52]\n",
      " [48]\n",
      " [55]\n",
      " [50]]\n",
      "(365, 1)\n"
     ]
    },
    {
     "data": {
      "text/plain": "numpy.ndarray"
     },
     "execution_count": 11,
     "metadata": {},
     "output_type": "execute_result"
    }
   ],
   "source": [
    "print(values)\n",
    "print(values.shape)\n",
    "type(values)"
   ],
   "metadata": {
    "collapsed": false,
    "pycharm": {
     "name": "#%%\n"
    }
   }
  },
  {
   "cell_type": "code",
   "execution_count": 12,
   "outputs": [],
   "source": [
    "# transform the time series data into supervised learning\n",
    "data = series_to_supervised(values, n_in=6)"
   ],
   "metadata": {
    "collapsed": false,
    "pycharm": {
     "name": "#%%\n"
    }
   }
  },
  {
   "cell_type": "code",
   "execution_count": 13,
   "outputs": [
    {
     "data": {
      "text/plain": "array([[35., 32., 30., ..., 44., 29., 45.],\n       [32., 30., 31., ..., 29., 45., 43.],\n       [30., 31., 44., ..., 45., 43., 38.],\n       ...,\n       [40., 38., 44., ..., 37., 52., 48.],\n       [38., 44., 34., ..., 52., 48., 55.],\n       [44., 34., 37., ..., 48., 55., 50.]])"
     },
     "execution_count": 13,
     "metadata": {},
     "output_type": "execute_result"
    }
   ],
   "source": [
    "data"
   ],
   "metadata": {
    "collapsed": false,
    "pycharm": {
     "name": "#%%\n"
    }
   }
  },
  {
   "cell_type": "code",
   "execution_count": 14,
   "outputs": [
    {
     "data": {
      "text/plain": "(359, 7)"
     },
     "execution_count": 14,
     "metadata": {},
     "output_type": "execute_result"
    }
   ],
   "source": [
    "data.shape"
   ],
   "metadata": {
    "collapsed": false,
    "pycharm": {
     "name": "#%%\n"
    }
   }
  },
  {
   "cell_type": "code",
   "execution_count": 14,
   "outputs": [],
   "source": [],
   "metadata": {
    "collapsed": false,
    "pycharm": {
     "name": "#%%\n"
    }
   }
  },
  {
   "cell_type": "code",
   "execution_count": 14,
   "outputs": [],
   "source": [],
   "metadata": {
    "collapsed": false,
    "pycharm": {
     "name": "#%%\n"
    }
   }
  },
  {
   "cell_type": "code",
   "execution_count": 15,
   "outputs": [
    {
     "name": "stdout",
     "output_type": "stream",
     "text": [
      ">expected=42.0, predicted=45.2\n",
      ">expected=53.0, predicted=43.8\n",
      ">expected=39.0, predicted=41.6\n",
      ">expected=40.0, predicted=38.3\n",
      ">expected=38.0, predicted=43.2\n",
      ">expected=44.0, predicted=47.6\n",
      ">expected=34.0, predicted=42.2\n",
      ">expected=37.0, predicted=36.9\n",
      ">expected=52.0, predicted=38.3\n",
      ">expected=48.0, predicted=42.0\n",
      ">expected=55.0, predicted=43.7\n",
      ">expected=50.0, predicted=45.3\n",
      "MAE: 5.795\n"
     ]
    }
   ],
   "source": [
    "# evaluate\n",
    "mae, y, yhat = walk_forward_validation(data, 12)\n",
    "print('MAE: %.3f' % mae)"
   ],
   "metadata": {
    "collapsed": false,
    "pycharm": {
     "name": "#%%\n"
    }
   }
  },
  {
   "cell_type": "code",
   "execution_count": 16,
   "outputs": [
    {
     "data": {
      "text/plain": "<Figure size 432x288 with 1 Axes>",
      "image/png": "[encoded data removed]"
     },
     "metadata": {
      "needs_background": "light"
     },
     "output_type": "display_data"
    }
   ],
   "source": [
    "# plot expected vs predicted\n",
    "pyplot.plot(y, label='Expected')\n",
    "pyplot.plot(yhat, label='Predicted')\n",
    "pyplot.legend()\n",
    "pyplot.show()"
   ],
   "metadata": {
    "collapsed": false,
    "pycharm": {
     "name": "#%%\n"
    }
   }
  }
 ],
 "metadata": {
  "kernelspec": {
   "display_name": "Python 3",
   "language": "python",
   "name": "python3"
  },
  "language_info": {
   "codemirror_mode": {
    "name": "ipython",
    "version": 2
   },
   "file_extension": ".py",
   "mimetype": "text/x-python",
   "name": "python",
   "nbconvert_exporter": "python",
   "pygments_lexer": "ipython2",
   "version": "2.7.6"
  }
 },
 "nbformat": 4,
 "nbformat_minor": 0
}