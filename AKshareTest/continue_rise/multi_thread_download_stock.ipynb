{
 "cells": [
  {
   "cell_type": "markdown",
   "metadata": {
    "collapsed": true,
    "pycharm": {
     "name": "#%% md\n"
    }
   },
   "source": [
    "# 多线程获取股票数据\n",
    "# 接口很容易被封"
   ]
  },
  {
   "cell_type": "code",
   "execution_count": null,
   "outputs": [],
   "source": [
    "import akshare as ak\n",
    "import pandas as pd\n",
    "import threading\n",
    "\n",
    "\n",
    "# 获取股票代码\n",
    "# 获取股票代码\n",
    "df_sz = ak.stock_info_sz_name_code()\n",
    "df_sh = ak.stock_info_sh_name_code()"
   ],
   "metadata": {
    "collapsed": false,
    "pycharm": {
     "name": "#%%\n"
    }
   }
  },
  {
   "cell_type": "code",
   "execution_count": null,
   "outputs": [],
   "source": [
    "df_sz['A股代码'] = 'sz' + df_sz['A股代码']\n",
    "df_sh['公司代码'] = 'sh' + df_sh['公司代码']\n",
    "print(df_sz)\n",
    "print(df_sh)"
   ],
   "metadata": {
    "collapsed": false,
    "pycharm": {
     "name": "#%%\n"
    }
   }
  },
  {
   "cell_type": "code",
   "execution_count": null,
   "outputs": [],
   "source": [
    "# df_sz[df_sz['板块']=='主板']\n",
    "# df_sz['板块'].unique()\n",
    "# df_zb = pd.DataFrame(columns='')\n",
    "sz_colume = ['板块', '代码', '简称', '上市日期', '总股本', '流通股本', '所属行业']\n",
    "sh_colume = ['代码', '简称', '公司代码', '公司简称', '上市日期']\n",
    "df_sz.columns = sz_colume\n",
    "df_sh.columns = sh_colume\n",
    "print(df_sz.columns)\n",
    "print(df_sh.columns)"
   ],
   "metadata": {
    "collapsed": false,
    "pycharm": {
     "name": "#%%\n"
    }
   }
  },
  {
   "cell_type": "code",
   "execution_count": null,
   "outputs": [],
   "source": [
    "df_sh['板块'] = '主板'"
   ],
   "metadata": {
    "collapsed": false,
    "pycharm": {
     "name": "#%%\n"
    }
   }
  },
  {
   "cell_type": "code",
   "execution_count": null,
   "outputs": [],
   "source": [
    "print(df_sh.columns)"
   ],
   "metadata": {
    "collapsed": false,
    "pycharm": {
     "name": "#%%\n"
    }
   }
  },
  {
   "cell_type": "code",
   "execution_count": null,
   "outputs": [],
   "source": [
    "sock_all = pd.DataFrame()\n",
    "sock_all = sock_all.append(df_sz)\n",
    "sock_all = sock_all.append(df_sh[['板块', '代码', '简称', '上市日期']])\n",
    "print(sock_all.shape)\n",
    "print(sock_all.tail())"
   ],
   "metadata": {
    "collapsed": false,
    "pycharm": {
     "name": "#%%\n"
    }
   }
  },
  {
   "cell_type": "code",
   "execution_count": null,
   "outputs": [],
   "source": [
    "sock_all = sock_all.reset_index(drop=True)\n",
    "print(sock_all.tail())\n",
    "sock_all.to_csv('/Users/jinkun.tian/gitee/financial_lab/AKshareTest/source/sock_all.csv', index=False)"
   ],
   "metadata": {
    "collapsed": false,
    "pycharm": {
     "name": "#%%\n"
    }
   }
  },
  {
   "cell_type": "code",
   "execution_count": null,
   "outputs": [],
   "source": [
    "# 多线程下载，每个线程下载500条记录。\n",
    "\n",
    "# 启动7个线程，下载\n",
    "# 将7个df合并"
   ],
   "metadata": {
    "collapsed": false,
    "pycharm": {
     "name": "#%%\n"
    }
   }
  },
  {
   "cell_type": "code",
   "execution_count": null,
   "outputs": [],
   "source": [
    "error_scok_code_list = []\n",
    "def get_sock_df(sc_df, start_index, count, start_time, end_time):\n",
    "    out_df = pd.DataFrame()\n",
    "    for i in range(count):\n",
    "        try:\n",
    "            code = sc_df.loc[start_index + i][['代码','简称']]\n",
    "        except:\n",
    "            print(\"代码获取完毕:\", start_index + i)\n",
    "        try:\n",
    "            df = ak.stock_zh_a_daily(code['代码'], start_time, end_time, adjust=\"qfq\")\n",
    "        except:\n",
    "            print('error')\n",
    "            print(\"获取失败\",code)\n",
    "            error_scok_code_list.append(code)\n",
    "            continue\n",
    "        df['code'] = code['代码']\n",
    "        df['name'] = code['简称']\n",
    "        out_df = out_df.append(df)\n",
    "    return out_df"
   ],
   "metadata": {
    "collapsed": false,
    "pycharm": {
     "name": "#%%\n"
    }
   }
  },
  {
   "cell_type": "code",
   "execution_count": null,
   "outputs": [],
   "source": [
    "class myThread(threading.Thread):\n",
    "    def __init__(self, threadID, sc_df, start_index, count, start_time, end_time):\n",
    "        threading.Thread.__init__(self)\n",
    "        self.threadID = threadID\n",
    "        self.sc_df = sc_df\n",
    "        self.start_index = start_index\n",
    "        self.start_time = start_time\n",
    "        self.end_time = end_time\n",
    "        self.count = count\n",
    "        self.out_df = None\n",
    "\n",
    "    def run(self):\n",
    "        print(\"开启线程：\" + str(self.threadID))\n",
    "        self.out_df = get_sock_df(self.sc_df, self.start_index, self.count, self.start_time, self.end_time)\n",
    "        print(\"退出线程：\" + str(self.threadID))"
   ],
   "metadata": {
    "collapsed": false,
    "pycharm": {
     "name": "#%%\n"
    }
   }
  },
  {
   "cell_type": "code",
   "execution_count": null,
   "outputs": [],
   "source": [
    "start_time = '20180601'\n",
    "end_time = '20180801'\n",
    "count = 500\n",
    "thread_list = list()\n",
    "zb_sock_all = sock_all[sock_all['板块']=='主板']\n",
    "zb_sock_all = zb_sock_all.reset_index(drop=True)\n",
    "for i in range(7):\n",
    "    start = 500*i\n",
    "    thread = myThread(i,zb_sock_all,start,count,start_time,end_time)\n",
    "    thread_list.append(thread)\n",
    "    thread.start()\n",
    "\n",
    "for i in thread_list:\n",
    "    thread.join()"
   ],
   "metadata": {
    "collapsed": false,
    "pycharm": {
     "name": "#%%\n"
    }
   }
  },
  {
   "cell_type": "code",
   "execution_count": null,
   "outputs": [],
   "source": [
    "for thread in thread_list:\n",
    "    print(thread.threadID,thread.start_index,thread.count,thread.out_df.shape)\n"
   ],
   "metadata": {
    "collapsed": false,
    "pycharm": {
     "name": "#%%\n"
    }
   }
  }
 ],
 "metadata": {
  "kernelspec": {
   "display_name": "Python 3",
   "language": "python",
   "name": "python3"
  },
  "language_info": {
   "codemirror_mode": {
    "name": "ipython",
    "version": 2
   },
   "file_extension": ".py",
   "mimetype": "text/x-python",
   "name": "python",
   "nbconvert_exporter": "python",
   "pygments_lexer": "ipython2",
   "version": "2.7.6"
  }
 },
 "nbformat": 4,
 "nbformat_minor": 0
}