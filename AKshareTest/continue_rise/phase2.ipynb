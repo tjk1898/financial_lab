{
 "cells": [
  {
   "cell_type": "markdown",
   "source": [
    "# 第一阶段总结\n",
    "经过第一阶段的整理，发现一下特点：\n",
    "1. 连续两个涨停板的股票，大概率还会再涨\n",
    "2. 大部分为小盘股票\n",
    "3. 沉浸了半年以上忽然爆发\n",
    "4. 会大涨大跌\n",
    "\n",
    "# 第二阶段目标\n",
    "了解结束的信号，以及结束后，这只股票的结果。\n",
    "庄家什么时候收手，或者开启二次炒作。\n",
    "1. 查找 20210301-20210501，20200301-20200501，20180601-20180801，被炒过的股票。\n",
    "2. 查看他们的后期走势。\n",
    "\n",
    "## 设想\n",
    "1. 后期各个股票会归于沉寂\n",
    "2. 抄完后，依然后很大波动，持续一段时间，最后归于沉寂\n",
    "3. 长时间波动"
   ],
   "metadata": {
    "collapsed": false
   }
  },
  {
   "cell_type": "code",
   "execution_count": 18,
   "outputs": [],
   "source": [
    "import akshare as ak\n",
    "import pandas as pd\n",
    "import threading\n",
    "from datetime import datetime\n",
    "import os"
   ],
   "metadata": {
    "collapsed": false,
    "pycharm": {
     "name": "#%%\n"
    }
   }
  },
  {
   "cell_type": "code",
   "execution_count": 19,
   "outputs": [
    {
     "name": "stdout",
     "output_type": "stream",
     "text": [
      "-----开始-----\n"
     ]
    }
   ],
   "source": [
    "print(\"-----开始-----\")"
   ],
   "metadata": {
    "collapsed": false,
    "pycharm": {
     "name": "#%%\n"
    }
   }
  },
  {
   "cell_type": "code",
   "execution_count": 20,
   "outputs": [
    {
     "name": "stdout",
     "output_type": "stream",
     "text": [
      "文件数量： 3150\n"
     ]
    }
   ],
   "source": [
    "current_dir = os.getcwd()\n",
    "data_dir = os.path.join(current_dir, 'data')\n",
    "file_list = os.listdir(data_dir)\n",
    "print(\"文件数量：\",len(file_list))"
   ],
   "metadata": {
    "collapsed": false,
    "pycharm": {
     "name": "#%%\n"
    }
   }
  },
  {
   "cell_type": "code",
   "execution_count": 21,
   "outputs": [
    {
     "name": "stdout",
     "output_type": "stream",
     "text": [
      "加载完毕！\n"
     ]
    }
   ],
   "source": [
    "# 读取csv 获得df\n",
    "stock_df = pd.DataFrame()\n",
    "for file in file_list:\n",
    "    if file.endswith('.csv'):\n",
    "        df = pd.read_csv(data_dir + '/' + file)\n",
    "        stock_df = stock_df.append(df[['code','name','date','open','close','high','low','amount']])\n",
    "stock_df = stock_df.reset_index(drop=True)\n",
    "print(\"加载完毕！\")\n",
    "# 按照时间，\n",
    "# 20180601-20180801 的数据 df1\n",
    "# 20210301-20210501 的数据 df2\n",
    "# 20200301-20200501 的数据 df3\n",
    "# 计算涨幅，获得df1_1，df1_2\n",
    "# 将df1_2向后移动一位，合并df1_1和df1_2\n",
    "# 获取连续两天涨幅>0.1的股票"
   ],
   "metadata": {
    "collapsed": false,
    "pycharm": {
     "name": "#%%\n"
    }
   }
  },
  {
   "cell_type": "code",
   "execution_count": 22,
   "outputs": [
    {
     "name": "stdout",
     "output_type": "stream",
     "text": [
      "计算增长率完毕！\n"
     ]
    }
   ],
   "source": [
    "# 添加索引列\n",
    "stock_df.insert(0,'index_num',0)\n",
    "stock_df['index_num'] = stock_df.groupby('code').index_num.transform(lambda x: range(len(x)))\n",
    "# 计算涨幅\n",
    "stock_df['rise_rate'] = (stock_df['close'] - stock_df['open']) / stock_df['open']\n",
    "before_store_df = stock_df.copy(deep=True)\n",
    "before_store_df.rename(columns={\"rise_rate\":\"before_rise_rate\"},inplace=True)\n",
    "res_stock_df = pd.merge(stock_df,before_store_df[['code','index_num','before_rise_rate']],on=['code','index_num'],how='left')\n",
    "print(\"计算增长率完毕！\")"
   ],
   "metadata": {
    "collapsed": false,
    "pycharm": {
     "name": "#%%\n"
    }
   }
  },
  {
   "cell_type": "code",
   "execution_count": 23,
   "outputs": [
    {
     "name": "stdout",
     "output_type": "stream",
     "text": [
      "数据筛选完毕！\n"
     ]
    }
   ],
   "source": [
    "low_1 = datetime(2018, 6, 1)\n",
    "high_1 = datetime(2018, 8, 1)\n",
    "low_2 = datetime(2020, 3, 1)\n",
    "high_2 = datetime(2020, 5, 1)\n",
    "low_3 = datetime(2021, 3, 1)\n",
    "high_3 = datetime(2021, 5, 1)\n",
    "\n",
    "# 日期类型转换\n",
    "res_stock_df['date']=pd.to_datetime(stock_df['date'],format='%Y-%m-%d')\n",
    "res_stock_df.drop(columns=['index_num'],inplace=True)\n",
    "stock_df_1 = res_stock_df[(res_stock_df['date']>low_1) & (res_stock_df['date']<high_1) & (res_stock_df['rise_rate']>0.1) & (res_stock_df['before_rise_rate']>0.1)]\n",
    "stock_df_2 = res_stock_df[(res_stock_df['date']>low_2) & (res_stock_df['date']<high_2) & (res_stock_df['rise_rate']>0.1) & (res_stock_df['before_rise_rate']>0.1)]\n",
    "stock_df_3 = res_stock_df[(res_stock_df['date']>low_3) & (res_stock_df['date']<high_3) & (res_stock_df['rise_rate']>0.1) & (res_stock_df['before_rise_rate']>0.1)]\n",
    "print(\"数据筛选完毕！\")"
   ],
   "metadata": {
    "collapsed": false,
    "pycharm": {
     "name": "#%%\n"
    }
   }
  },
  {
   "cell_type": "code",
   "execution_count": 24,
   "outputs": [
    {
     "name": "stdout",
     "output_type": "stream",
     "text": [
      "输出CSV完毕！\n"
     ]
    }
   ],
   "source": [
    "# 检查路径是否存在，如果不存在，就创建一个\n",
    "dir = current_dir+'/continue_rise/'\n",
    "if not os.path.exists(dir):\n",
    "    os.makedirs(dir)\n",
    "# 输出csv\n",
    "if len(stock_df_1) > 0:\n",
    "    stock_df_1.to_csv(dir+'/20180601_20180801_continue_rise.csv',index=False)\n",
    "if len(stock_df_2) > 0:\n",
    "    stock_df_2.to_csv(dir+'/20210301-20210501_continue_rise.csv',index=False)\n",
    "if len(stock_df_3) > 0:\n",
    "    stock_df_3.to_csv(dir+'/20200301-20200501_continue_rise.csv',index=False)\n",
    "print(\"输出CSV完毕！\")"
   ],
   "metadata": {
    "collapsed": false,
    "pycharm": {
     "name": "#%%\n"
    }
   }
  },
  {
   "cell_type": "code",
   "execution_count": 25,
   "outputs": [
    {
     "name": "stdout",
     "output_type": "stream",
     "text": [
      "509\n",
      "941\n",
      "922\n"
     ]
    }
   ],
   "source": [
    "print(len(stock_df_1))\n",
    "print(len(stock_df_2))\n",
    "print(len(stock_df_3))"
   ],
   "metadata": {
    "collapsed": false,
    "pycharm": {
     "name": "#%%\n"
    }
   }
  }
 ],
 "metadata": {
  "kernelspec": {
   "display_name": "Python 3",
   "language": "python",
   "name": "python3"
  },
  "language_info": {
   "codemirror_mode": {
    "name": "ipython",
    "version": 2
   },
   "file_extension": ".py",
   "mimetype": "text/x-python",
   "name": "python",
   "nbconvert_exporter": "python",
   "pygments_lexer": "ipython2",
   "version": "2.7.6"
  }
 },
 "nbformat": 4,
 "nbformat_minor": 0
}