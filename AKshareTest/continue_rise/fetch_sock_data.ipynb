{
 "cells": [
  {
   "cell_type": "code",
   "execution_count": 1,
   "metadata": {
    "collapsed": true
   },
   "outputs": [],
   "source": [
    "import akshare as ak\n",
    "import pandas as pd\n",
    "\n",
    "import os"
   ]
  },
  {
   "cell_type": "code",
   "execution_count": 13,
   "outputs": [],
   "source": [
    "current_dir = os.getcwd()\n",
    "data_path = os.path.join(current_dir, 'data')\n",
    "parent_path = os.path.dirname(current_dir)"
   ],
   "metadata": {
    "collapsed": false,
    "pycharm": {
     "name": "#%%\n"
    }
   }
  },
  {
   "cell_type": "code",
   "execution_count": 14,
   "outputs": [
    {
     "name": "stdout",
     "output_type": "stream",
     "text": [
      "   板块        代码     简称        上市日期             总股本            流通股本    所属行业\n",
      "0  主板  sz000001   平安银行  1991-04-03  19,405,918,198  19,405,546,950   J 金融业\n",
      "1  主板  sz000002  万  科Ａ  1991-01-29   9,724,196,533   9,717,553,265   K 房地产\n",
      "2  主板  sz000004   国华网安  1990-12-01     156,003,026     116,330,763  I 信息技术\n",
      "3  主板  sz000005   ST星源  1990-12-10   1,058,536,842   1,057,946,242  N 公共环保\n",
      "4  主板  sz000006   深振业Ａ  1992-04-27   1,349,995,046   1,349,995,046   K 房地产\n"
     ]
    }
   ],
   "source": [
    "all_stock= pd.read_csv(parent_path+\"/source/sock_all.csv\")\n",
    "print(all_stock.head())"
   ],
   "metadata": {
    "collapsed": false,
    "pycharm": {
     "name": "#%%\n"
    }
   }
  },
  {
   "cell_type": "code",
   "execution_count": 45,
   "outputs": [
    {
     "name": "stdout",
     "output_type": "stream",
     "text": [
      "      板块        代码    简称        上市日期  总股本 流通股本 所属行业\n",
      "3145  主板  sh605580  恒盛能源  2021-08-19  NaN  NaN  NaN\n",
      "3146  主板  sh605588  冠石科技  2021-08-12  NaN  NaN  NaN\n",
      "3147  主板  sh605589  圣泉集团  2021-08-10  NaN  NaN  NaN\n",
      "3148  主板  sh605598  上海港湾  2021-09-17  NaN  NaN  NaN\n",
      "3149  主板  sh605599  菜百股份  2021-09-09  NaN  NaN  NaN\n",
      "(3150, 7)\n"
     ]
    }
   ],
   "source": [
    "zb_all_stock=all_stock[all_stock[\"板块\"]==\"主板\"]\n",
    "zb_all_stock = zb_all_stock.reset_index(drop=True)\n",
    "print(zb_all_stock.tail())\n",
    "print(zb_all_stock.shape)"
   ],
   "metadata": {
    "collapsed": false,
    "pycharm": {
     "name": "#%%\n"
    }
   }
  },
  {
   "cell_type": "code",
   "execution_count": 21,
   "outputs": [
    {
     "name": "stderr",
     "output_type": "stream",
     "text": [
      " 88%|████████▊ | 28/32 [00:29<00:04,  1.07s/it]"
     ]
    },
    {
     "name": "stdout",
     "output_type": "stream",
     "text": [
      "获取数据出错 0 sz000001 平安银行\n"
     ]
    },
    {
     "name": "stderr",
     "output_type": "stream",
     "text": [
      "\n"
     ]
    }
   ],
   "source": [
    "for i in range(len(zb_all_stock)):\n",
    "    stock_info = zb_all_stock.loc[i]\n",
    "    code = stock_info['代码']\n",
    "    name = stock_info['简称']\n",
    "    try:\n",
    "        tmp_df = ak.stock_zh_index_daily_tx(code)\n",
    "        tmp_df['code'] = code\n",
    "        tmp_df['name'] = name\n",
    "        tmp_df.to_csv(\"{}/{}.csv\".format(data_path,code))\n",
    "    except:\n",
    "        print(\"获取数据出错\",i,code,name)\n",
    "        break;"
   ],
   "metadata": {
    "collapsed": false,
    "pycharm": {
     "name": "#%%\n"
    }
   }
  },
  {
   "cell_type": "code",
   "execution_count": 3,
   "outputs": [
    {
     "name": "stderr",
     "output_type": "stream",
     "text": [
      "                                                               \r"
     ]
    },
    {
     "ename": "JSONDecodeError",
     "evalue": "Can not decode value starting with character '<'",
     "output_type": "error",
     "traceback": [
      "\u001B[0;31m---------------------------------------------------------------------------\u001B[0m",
      "\u001B[0;31mJSONDecodeError\u001B[0m                           Traceback (most recent call last)",
      "Input \u001B[0;32mIn [3]\u001B[0m, in \u001B[0;36m<cell line: 1>\u001B[0;34m()\u001B[0m\n\u001B[0;32m----> 1\u001B[0m \u001B[43mak\u001B[49m\u001B[38;5;241;43m.\u001B[39;49m\u001B[43mstock_zh_a_spot\u001B[49m\u001B[43m(\u001B[49m\u001B[43m)\u001B[49m\n",
      "File \u001B[0;32m~/gitee/financial_lab/venv/lib/python3.8/site-packages/akshare/stock/stock_zh_a_sina.py:57\u001B[0m, in \u001B[0;36mstock_zh_a_spot\u001B[0;34m()\u001B[0m\n\u001B[1;32m     55\u001B[0m     zh_sina_stock_payload_copy\u001B[38;5;241m.\u001B[39mupdate({\u001B[38;5;124m\"\u001B[39m\u001B[38;5;124mpage\u001B[39m\u001B[38;5;124m\"\u001B[39m: page})\n\u001B[1;32m     56\u001B[0m     r \u001B[38;5;241m=\u001B[39m requests\u001B[38;5;241m.\u001B[39mget(zh_sina_a_stock_url, params\u001B[38;5;241m=\u001B[39mzh_sina_stock_payload_copy)\n\u001B[0;32m---> 57\u001B[0m     data_json \u001B[38;5;241m=\u001B[39m \u001B[43mdemjson\u001B[49m\u001B[38;5;241;43m.\u001B[39;49m\u001B[43mdecode\u001B[49m\u001B[43m(\u001B[49m\u001B[43mr\u001B[49m\u001B[38;5;241;43m.\u001B[39;49m\u001B[43mtext\u001B[49m\u001B[43m)\u001B[49m\n\u001B[1;32m     58\u001B[0m     big_df \u001B[38;5;241m=\u001B[39m big_df\u001B[38;5;241m.\u001B[39mappend(pd\u001B[38;5;241m.\u001B[39mDataFrame(data_json), ignore_index\u001B[38;5;241m=\u001B[39m\u001B[38;5;28;01mTrue\u001B[39;00m)\n\u001B[1;32m     59\u001B[0m big_df \u001B[38;5;241m=\u001B[39m big_df\u001B[38;5;241m.\u001B[39mastype(\n\u001B[1;32m     60\u001B[0m     {\n\u001B[1;32m     61\u001B[0m         \u001B[38;5;124m\"\u001B[39m\u001B[38;5;124mtrade\u001B[39m\u001B[38;5;124m\"\u001B[39m: \u001B[38;5;124m\"\u001B[39m\u001B[38;5;124mfloat\u001B[39m\u001B[38;5;124m\"\u001B[39m,\n\u001B[0;32m   (...)\u001B[0m\n\u001B[1;32m     77\u001B[0m     }\n\u001B[1;32m     78\u001B[0m )\n",
      "File \u001B[0;32m~/gitee/financial_lab/venv/lib/python3.8/site-packages/akshare/utils/demjson.py:5740\u001B[0m, in \u001B[0;36mdecode\u001B[0;34m(txt, encoding, **kwargs)\u001B[0m\n\u001B[1;32m   5737\u001B[0m j \u001B[38;5;241m=\u001B[39m JSON(\u001B[38;5;241m*\u001B[39m\u001B[38;5;241m*\u001B[39mkwargs)\n\u001B[1;32m   5739\u001B[0m \u001B[38;5;66;03m# Now do the actual JSON decoding\u001B[39;00m\n\u001B[0;32m-> 5740\u001B[0m result \u001B[38;5;241m=\u001B[39m \u001B[43mj\u001B[49m\u001B[38;5;241;43m.\u001B[39;49m\u001B[43mdecode\u001B[49m\u001B[43m(\u001B[49m\u001B[43mtxt\u001B[49m\u001B[43m,\u001B[49m\n\u001B[1;32m   5741\u001B[0m \u001B[43m                  \u001B[49m\u001B[43mencoding\u001B[49m\u001B[38;5;241;43m=\u001B[39;49m\u001B[43mencoding\u001B[49m\u001B[43m,\u001B[49m\n\u001B[1;32m   5742\u001B[0m \u001B[43m                  \u001B[49m\u001B[43mreturn_errors\u001B[49m\u001B[38;5;241;43m=\u001B[39;49m\u001B[43m(\u001B[49m\u001B[43mreturn_errors\u001B[49m\u001B[43m \u001B[49m\u001B[38;5;129;43;01mor\u001B[39;49;00m\u001B[43m \u001B[49m\u001B[43mwrite_errors\u001B[49m\u001B[43m)\u001B[49m\u001B[43m,\u001B[49m\n\u001B[1;32m   5743\u001B[0m \u001B[43m                  \u001B[49m\u001B[43mreturn_stats\u001B[49m\u001B[38;5;241;43m=\u001B[39;49m\u001B[43m(\u001B[49m\u001B[43mreturn_stats\u001B[49m\u001B[43m \u001B[49m\u001B[38;5;129;43;01mor\u001B[39;49;00m\u001B[43m \u001B[49m\u001B[43mwrite_stats\u001B[49m\u001B[43m)\u001B[49m\u001B[43m)\u001B[49m\n\u001B[1;32m   5745\u001B[0m \u001B[38;5;28;01mif\u001B[39;00m write_errors:\n\u001B[1;32m   5746\u001B[0m     \u001B[38;5;28;01mimport\u001B[39;00m \u001B[38;5;21;01msys\u001B[39;00m\n",
      "File \u001B[0;32m~/gitee/financial_lab/venv/lib/python3.8/site-packages/akshare/utils/demjson.py:4957\u001B[0m, in \u001B[0;36mJSON.decode\u001B[0;34m(self, txt, encoding, return_errors, return_stats)\u001B[0m\n\u001B[1;32m   4955\u001B[0m errors \u001B[38;5;241m=\u001B[39m [err \u001B[38;5;28;01mfor\u001B[39;00m err \u001B[38;5;129;01min\u001B[39;00m state\u001B[38;5;241m.\u001B[39merrors \u001B[38;5;28;01mif\u001B[39;00m err\u001B[38;5;241m.\u001B[39mseverity \u001B[38;5;129;01min\u001B[39;00m (\u001B[38;5;124m'\u001B[39m\u001B[38;5;124mfatal\u001B[39m\u001B[38;5;124m'\u001B[39m, \u001B[38;5;124m'\u001B[39m\u001B[38;5;124merror\u001B[39m\u001B[38;5;124m'\u001B[39m)]\n\u001B[1;32m   4956\u001B[0m \u001B[38;5;28;01mif\u001B[39;00m errors:\n\u001B[0;32m-> 4957\u001B[0m     \u001B[38;5;28;01mraise\u001B[39;00m errors[\u001B[38;5;241m0\u001B[39m]\n\u001B[1;32m   4958\u001B[0m \u001B[38;5;28;01mif\u001B[39;00m return_stats:\n\u001B[1;32m   4959\u001B[0m     \u001B[38;5;28;01mreturn\u001B[39;00m result_type(state\u001B[38;5;241m.\u001B[39mobj, \u001B[38;5;28;01mNone\u001B[39;00m, state\u001B[38;5;241m.\u001B[39mstats)\n",
      "\u001B[0;31mJSONDecodeError\u001B[0m: Can not decode value starting with character '<'"
     ]
    }
   ],
   "source": [
    "\n",
    "ak.stock_zh_a_spot()"
   ],
   "metadata": {
    "collapsed": false,
    "pycharm": {
     "name": "#%%\n"
    }
   }
  },
  {
   "cell_type": "code",
   "execution_count": 4,
   "outputs": [
    {
     "data": {
      "text/plain": "                       day    open    high     low   close volume\n0      2021-12-23 11:12:00  70.240  70.250  70.240  70.250   8000\n1      2021-12-23 11:13:00  70.240  70.250  70.230  70.230   5600\n2      2021-12-23 11:14:00  70.240  70.240  70.220  70.220   4800\n3      2021-12-23 11:15:00  70.210  70.220  70.200  70.220   3900\n4      2021-12-23 11:16:00  70.220  70.220  70.190  70.200   6900\n...                    ...     ...     ...     ...     ...    ...\n19995  2022-05-05 11:15:00  43.680  43.700  43.670  43.690   5700\n19996  2022-05-05 11:16:00  43.690  43.700  43.650  43.650  13000\n19997  2022-05-05 11:17:00  43.650  43.650  43.580  43.610   4900\n19998  2022-05-05 11:18:00  43.610  43.650  43.570  43.640  12500\n19999  2022-05-05 11:19:00  43.630  43.640  43.620  43.630   3900\n\n[20000 rows x 6 columns]",
      "text/html": "<div>\n<style scoped>\n    .dataframe tbody tr th:only-of-type {\n        vertical-align: middle;\n    }\n\n    .dataframe tbody tr th {\n        vertical-align: top;\n    }\n\n    .dataframe thead th {\n        text-align: right;\n    }\n</style>\n<table border=\"1\" class=\"dataframe\">\n  <thead>\n    <tr style=\"text-align: right;\">\n      <th></th>\n      <th>day</th>\n      <th>open</th>\n      <th>high</th>\n      <th>low</th>\n      <th>close</th>\n      <th>volume</th>\n    </tr>\n  </thead>\n  <tbody>\n    <tr>\n      <th>0</th>\n      <td>2021-12-23 11:12:00</td>\n      <td>70.240</td>\n      <td>70.250</td>\n      <td>70.240</td>\n      <td>70.250</td>\n      <td>8000</td>\n    </tr>\n    <tr>\n      <th>1</th>\n      <td>2021-12-23 11:13:00</td>\n      <td>70.240</td>\n      <td>70.250</td>\n      <td>70.230</td>\n      <td>70.230</td>\n      <td>5600</td>\n    </tr>\n    <tr>\n      <th>2</th>\n      <td>2021-12-23 11:14:00</td>\n      <td>70.240</td>\n      <td>70.240</td>\n      <td>70.220</td>\n      <td>70.220</td>\n      <td>4800</td>\n    </tr>\n    <tr>\n      <th>3</th>\n      <td>2021-12-23 11:15:00</td>\n      <td>70.210</td>\n      <td>70.220</td>\n      <td>70.200</td>\n      <td>70.220</td>\n      <td>3900</td>\n    </tr>\n    <tr>\n      <th>4</th>\n      <td>2021-12-23 11:16:00</td>\n      <td>70.220</td>\n      <td>70.220</td>\n      <td>70.190</td>\n      <td>70.200</td>\n      <td>6900</td>\n    </tr>\n    <tr>\n      <th>...</th>\n      <td>...</td>\n      <td>...</td>\n      <td>...</td>\n      <td>...</td>\n      <td>...</td>\n      <td>...</td>\n    </tr>\n    <tr>\n      <th>19995</th>\n      <td>2022-05-05 11:15:00</td>\n      <td>43.680</td>\n      <td>43.700</td>\n      <td>43.670</td>\n      <td>43.690</td>\n      <td>5700</td>\n    </tr>\n    <tr>\n      <th>19996</th>\n      <td>2022-05-05 11:16:00</td>\n      <td>43.690</td>\n      <td>43.700</td>\n      <td>43.650</td>\n      <td>43.650</td>\n      <td>13000</td>\n    </tr>\n    <tr>\n      <th>19997</th>\n      <td>2022-05-05 11:17:00</td>\n      <td>43.650</td>\n      <td>43.650</td>\n      <td>43.580</td>\n      <td>43.610</td>\n      <td>4900</td>\n    </tr>\n    <tr>\n      <th>19998</th>\n      <td>2022-05-05 11:18:00</td>\n      <td>43.610</td>\n      <td>43.650</td>\n      <td>43.570</td>\n      <td>43.640</td>\n      <td>12500</td>\n    </tr>\n    <tr>\n      <th>19999</th>\n      <td>2022-05-05 11:19:00</td>\n      <td>43.630</td>\n      <td>43.640</td>\n      <td>43.620</td>\n      <td>43.630</td>\n      <td>3900</td>\n    </tr>\n  </tbody>\n</table>\n<p>20000 rows × 6 columns</p>\n</div>"
     },
     "execution_count": 4,
     "metadata": {},
     "output_type": "execute_result"
    }
   ],
   "source": [
    "ak.stock_zh_a_minute()"
   ],
   "metadata": {
    "collapsed": false,
    "pycharm": {
     "name": "#%%\n"
    }
   }
  }
 ],
 "metadata": {
  "kernelspec": {
   "display_name": "Python 3",
   "language": "python",
   "name": "python3"
  },
  "language_info": {
   "codemirror_mode": {
    "name": "ipython",
    "version": 2
   },
   "file_extension": ".py",
   "mimetype": "text/x-python",
   "name": "python",
   "nbconvert_exporter": "python",
   "pygments_lexer": "ipython2",
   "version": "2.7.6"
  }
 },
 "nbformat": 4,
 "nbformat_minor": 0
}