{
 "cells": [
  {
   "cell_type": "code",
   "execution_count": 6,
   "metadata": {
    "collapsed": true
   },
   "outputs": [],
   "source": [
    "import akshare as ak;\n",
    "import pandas as pd;\n",
    "import os;"
   ]
  },
  {
   "cell_type": "code",
   "execution_count": 8,
   "outputs": [
    {
     "name": "stdout",
     "output_type": "stream",
     "text": [
      "      序号      代码    名称    最新价    涨跌幅   涨跌额        成交量           成交额     振幅  \\\n",
      "0      1  002305  南国置业   3.37  10.13  0.31  1918351.0  6.229999e+08   8.50   \n",
      "1      2  600082  海泰发展   4.15  10.08  0.38  1426439.0  5.767130e+08  13.53   \n",
      "2      3  000926  福星股份   6.90  10.05  0.63  2703570.0  1.791357e+09  15.95   \n",
      "3      4  000042  中洲控股   9.82   9.97  0.89   135623.0  1.290362e+08  12.21   \n",
      "4      5  600225  天津松江   3.20   9.97  0.29   727328.0  2.294852e+08  13.06   \n",
      "..   ...     ...   ...    ...    ...   ...        ...           ...    ...   \n",
      "113  114  600736  苏州高新   5.84  -0.51 -0.03   604638.0  3.555923e+08   4.26   \n",
      "114  115  000036  华联控股   4.12  -0.72 -0.03   252461.0  1.039413e+08   3.61   \n",
      "115  116  000048  京基智农  18.44  -1.13 -0.21    24874.0  4.539308e+07   2.63   \n",
      "116  117  600077  宋都股份   4.62  -2.94 -0.14  2237579.0  1.053837e+09  13.24   \n",
      "117  118  600515  ST基础   3.51  -3.04 -0.11   623831.0  2.232347e+08   5.25   \n",
      "\n",
      "        最高     最低     今开     昨收    换手率  市盈率-动态   市净率  \n",
      "0     3.37   3.11   3.11   3.06  11.07  -24.95  2.02  \n",
      "1     4.15   3.64   3.64   3.77  22.49  -57.09  1.54  \n",
      "2     6.90   5.90   6.02   6.27  28.89   44.20  0.58  \n",
      "3     9.82   8.73   8.75   8.93   2.04   44.93  0.81  \n",
      "4     3.20   2.82   2.82   2.91   2.13  -34.47  7.63  \n",
      "..     ...    ...    ...    ...    ...     ...   ...  \n",
      "113   5.99   5.74   5.77   5.87   5.25   34.05  0.92  \n",
      "114   4.20   4.05   4.08   4.15   1.71   43.71  1.22  \n",
      "115  18.49  18.00  18.45  18.65   0.48  -17.01  5.64  \n",
      "116   4.98   4.35   4.55   4.76  16.70 -133.05  1.44  \n",
      "117   3.68   3.49   3.61   3.62   0.68  133.52  2.08  \n",
      "\n",
      "[118 rows x 16 columns]\n",
      "    序号      代码     名称     最新价    涨跌幅   涨跌额        成交量           成交额     振幅  \\\n",
      "0    1  000957   中通客车    7.00  10.06  0.64   262782.0  1.839474e+08   0.00   \n",
      "1    2  600418   江淮汽车   10.15   9.97  0.92  1854136.0  1.767736e+09  13.43   \n",
      "2    3  601633   长城汽车   35.76   6.21  2.09  1127529.0  3.805123e+09  13.28   \n",
      "3    4  000868   安凯客车    4.14   5.61  0.22   480616.0  1.934229e+08  11.48   \n",
      "4    5  600213   亚星客车    7.54   5.01  0.36   161418.0  1.178330e+08  12.81   \n",
      "5    6  600686   金龙汽车    6.02   4.88  0.28   380832.0  2.284031e+08  10.63   \n",
      "6    7  600303   ST曙光    3.52   4.76  0.16   202168.0  6.927544e+07   7.44   \n",
      "7    8  301039   中集车辆   11.47   4.27  0.47   502967.0  5.536749e+08   7.55   \n",
      "8    9  000625   长安汽车   13.81   3.29  0.44  3292688.0  4.464683e+09   6.73   \n",
      "9   10  000572   海马汽车    5.10   2.82  0.14   422864.0  2.124453e+08   4.84   \n",
      "10  11  600166   福田汽车    2.56   1.99  0.05  1106118.0  2.798238e+08   5.98   \n",
      "11  12  600066   宇通客车    8.25   1.73  0.14   244782.0  1.988852e+08   3.70   \n",
      "12  13  600006   东风汽车    5.27   1.54  0.08   290699.0  1.507277e+08   4.05   \n",
      "13  14  601238   广汽集团   13.47   1.28  0.17   422533.0  5.633252e+08   5.19   \n",
      "14  15  002594    比亚迪  284.51   1.10  3.09   173637.0  4.879757e+09   3.93   \n",
      "15  16  000800   一汽解放    8.31   0.36  0.03   114223.0  9.401337e+07   2.66   \n",
      "16  17  600104   上汽集团   16.53   0.30  0.05   384598.0  6.298058e+08   2.85   \n",
      "17  18  600733   北汽蓝谷    7.29   0.28  0.02  1158385.0  8.359497e+08   3.99   \n",
      "18  19  000980  *ST众泰     NaN    NaN   NaN        NaN           NaN    NaN   \n",
      "19  20  601127   小康股份   47.13  -0.55 -0.26   199512.0  9.360189e+08   3.23   \n",
      "20  21  000951   中国重汽   12.11  -1.30 -0.16   380538.0  4.532305e+08   3.67   \n",
      "21  22  000550   江铃汽车   14.48  -1.70 -0.25   131414.0  1.877595e+08   3.39   \n",
      "22  23  601777   力帆科技    4.57  -2.56 -0.12   537968.0  2.436011e+08   3.84   \n",
      "\n",
      "        最高      最低      今开      昨收    换手率  市盈率-动态    市净率  \n",
      "0     7.00    7.00    7.00    6.36   4.43  -29.40   1.64  \n",
      "1    10.15    8.91    8.98    9.23   9.79  -19.10   1.48  \n",
      "2    37.00   32.53   32.88   33.67   1.85   50.62   5.18  \n",
      "3     4.26    3.81    3.81    3.92   6.55  -18.98  13.42  \n",
      "4     7.80    6.88    6.88    7.18   7.34  -12.35   6.91  \n",
      "5     6.29    5.68    5.69    5.74   5.65  278.37   1.21  \n",
      "6     3.53    3.28    3.31    3.36   2.99  -18.21   0.97  \n",
      "7    11.48   10.65   10.73   11.00  27.39   46.48   2.02  \n",
      "8    13.89   12.99   13.07   13.37   5.63    5.81   1.73  \n",
      "9     5.10    4.86    4.86    4.96   2.58  -34.42   2.32  \n",
      "10    2.58    2.43    2.45    2.51   1.68   31.08   1.58  \n",
      "11    8.25    7.95    8.00    8.11   1.11  -39.48   1.33  \n",
      "12    5.28    5.07    5.11    5.19   1.45   22.21   1.29  \n",
      "13   13.61   12.92   13.00   13.30   0.58   11.71   1.45  \n",
      "14  285.35  274.30  275.31  281.42   1.49  256.14   8.64  \n",
      "15    8.32    8.10    8.15    8.28   0.81   21.38   1.45  \n",
      "16   16.55   16.08   16.18   16.48   0.33    8.75   0.70  \n",
      "17    7.37    7.08    7.10    7.27   2.96   -8.16   3.07  \n",
      "18     NaN     NaN     NaN    3.39    NaN  -27.41   5.23  \n",
      "19   47.66   46.13   46.49   47.39   1.93  -19.10   9.05  \n",
      "20   12.12   11.67   11.80   12.27   3.24   28.67   1.01  \n",
      "21   14.58   14.08   14.37   14.73   2.53   16.11   1.43  \n",
      "22    4.64    4.46    4.55    4.69   2.39  101.11   2.02  \n",
      "      序号      代码      名称     最新价    涨跌幅   涨跌额      成交量          成交额     振幅  \\\n",
      "0      1  603166    福达股份    7.56  10.04  0.69   332112  249566810.0   6.40   \n",
      "1      2  600841    动力新科    8.01  10.03  0.73   630879  486729088.0   9.48   \n",
      "2      3  603767    中马传动   11.10  10.01  1.01   468548  494570752.0  13.88   \n",
      "3      4  001319    铭科精技   34.52  10.01  3.14    13306   45933451.0   0.00   \n",
      "4      5  603023    威帝股份    5.35   6.36  0.32   636507  338325072.0  13.32   \n",
      "..   ...     ...     ...     ...    ...   ...      ...          ...    ...   \n",
      "175  176  600698    湖南天雁    5.11  -3.04 -0.16  1251597  675087456.0  13.28   \n",
      "176  177  603335     迪生力    5.84  -3.63 -0.22   258126  150472627.0   3.47   \n",
      "177  178  002590    万安科技    7.13  -3.65 -0.27   226337  161628440.0   2.84   \n",
      "178  179  603178    圣龙股份   11.07  -3.74 -0.43   112049  123242520.0   4.52   \n",
      "179  180  688326  经纬恒润-W  106.88  -4.30 -4.80     9802  103940558.0   5.00   \n",
      "\n",
      "         最高      最低      今开      昨收    换手率   市盈率-动态   市净率  \n",
      "0      7.56    7.12    7.32    6.87   5.14    40.57  2.08  \n",
      "1      8.01    7.32    7.43    7.28  19.24   195.11  1.34  \n",
      "2     11.10    9.70    9.87   10.09  15.42   714.33  2.42  \n",
      "3     34.52   34.52   34.52   31.38   3.76    50.75  4.22  \n",
      "4      5.53    4.86    4.90    5.03  11.32  1078.86  3.94  \n",
      "..      ...     ...     ...     ...    ...      ...   ...  \n",
      "175    5.78    5.08    5.32    5.27  16.97  3396.14  6.89  \n",
      "176    5.94    5.73    5.86    6.06   6.03    51.16  4.04  \n",
      "177    7.24    7.03    7.10    7.40   4.97  -351.27  1.78  \n",
      "178   11.28   10.76   10.99   11.50   5.58    26.98  2.14  \n",
      "179  108.88  103.30  108.88  111.68   4.19  -101.05  2.57  \n",
      "\n",
      "[180 rows x 16 columns]\n",
      "    序号      代码    名称    最新价    涨跌幅   涨跌额      成交量           成交额     振幅     最高  \\\n",
      "0    1  300712  永福股份  39.53  10.88  3.88    85204  3.238208e+08  13.74  39.80   \n",
      "1    2  002775  文科园林   5.15  10.04  0.47  1021876  5.154026e+08   7.91   5.15   \n",
      "2    3  601669  中国电建   7.60   7.34  0.52  3003730  2.205666e+09   9.04   7.61   \n",
      "3    4  002941  新疆交建  17.41   7.01  1.14   427057  7.193970e+08  10.63  17.67   \n",
      "4    5  600502  安徽建工   7.01   6.05  0.40  2708016  1.839393e+09   9.98   7.14   \n",
      "..  ..     ...   ...    ...    ...   ...      ...           ...    ...    ...   \n",
      "66  67  601117  中国化学   9.38  -1.26 -0.12   396552  3.680674e+08   2.11   9.40   \n",
      "67  68  000010  美丽生态   3.45  -2.27 -0.08   488714  1.703004e+08   5.67   3.61   \n",
      "68  69  600284  浦东建设   7.78  -4.07 -0.33  1157870  9.150629e+08   7.64   8.33   \n",
      "69  70  002374  中锐股份   4.51  -4.85 -0.23  1484203  6.803232e+08   5.27   4.73   \n",
      "70  71  002431  棕榈股份   4.57 -10.04 -0.51  4630003  2.291285e+09  14.37   5.30   \n",
      "\n",
      "       最低     今开     昨收    换手率  市盈率-动态   市净率  \n",
      "0   34.90  35.00  35.65   4.68  106.76  6.29  \n",
      "1    4.78   4.80   4.68  22.91  346.10  6.02  \n",
      "2    6.97   7.01   7.08   2.70   10.52  1.24  \n",
      "3   15.94  16.01  16.27   6.68  724.57  4.24  \n",
      "4    6.48   6.49   6.61  15.73    9.66  1.52  \n",
      "..    ...    ...    ...    ...     ...   ...  \n",
      "66   9.20   9.36   9.50   0.69   14.66  1.16  \n",
      "67   3.41   3.42   3.53   9.36  357.95  5.44  \n",
      "68   7.71   8.16   8.11  11.93   12.06  1.11  \n",
      "69   4.48   4.63   4.74  13.92   96.53  2.39  \n",
      "70   4.57   5.13   5.08  31.75   -9.06  1.88  \n",
      "\n",
      "[71 rows x 16 columns]\n",
      "      序号      代码      名称     最新价    涨跌幅   涨跌额     成交量           成交额     振幅  \\\n",
      "0      1  300672     国科微   75.65  11.41  7.75  142221  1.064352e+09  21.97   \n",
      "1      2  688508     芯朋微   78.13   8.89  6.38   43215  3.307895e+08  16.11   \n",
      "2      3  300223    北京君正   85.90   7.50  5.99  122821  1.021873e+09  10.14   \n",
      "3      4  605111     新洁能  106.79   5.74  5.80  111658  1.155312e+09   9.46   \n",
      "4      5  688037     芯源微  132.77   5.66  7.11   20301  2.650215e+08   8.99   \n",
      "..   ...     ...     ...     ...    ...   ...     ...           ...    ...   \n",
      "97    98  688279    峰岹科技   59.24  -0.77 -0.46   10314  6.089470e+07   2.78   \n",
      "98    99  688259    创耀科技   81.61  -1.32 -1.09    6244  5.127700e+07   4.74   \n",
      "99   100  688072  拓荆科技-U  139.00  -1.42 -2.00   22239  3.108409e+08   5.82   \n",
      "100  101  688052     纳芯微  306.98  -1.56 -4.87   14253  4.353817e+08   5.07   \n",
      "101  102  300661    圣邦股份  301.41  -1.58 -4.84   15292  4.590081e+08   3.16   \n",
      "\n",
      "         最高      最低      今开      昨收   换手率  市盈率-动态    市净率  \n",
      "0     81.48   66.56   67.01   67.90  8.22 -150.65   9.05  \n",
      "1     80.38   68.82   70.00   71.75  6.27   65.69   5.91  \n",
      "2     86.48   78.38   78.74   79.91  3.01   44.64   3.95  \n",
      "3    107.10   97.55   98.23  100.99  7.86   47.50  12.67  \n",
      "4    134.30  123.00  123.01  125.66  4.53   86.18  12.55  \n",
      "..      ...     ...     ...     ...   ...     ...    ...  \n",
      "97    59.78   58.12   58.90   59.70  4.91   35.88   2.50  \n",
      "98    84.48   80.56   81.00   82.70  3.68   64.12   4.52  \n",
      "99   144.30  136.10  138.02  141.00  8.50 -370.02   5.31  \n",
      "100  313.80  298.00  307.46  311.85  6.61   92.01   4.99  \n",
      "101  305.88  296.20  305.51  306.25  0.69   68.53  26.15  \n",
      "\n",
      "[102 rows x 16 columns]\n",
      "    序号      代码    名称    最新价    涨跌幅   涨跌额        成交量           成交额     振幅  \\\n",
      "0    1  300313  ST天山   7.51  19.97  1.25   229162.0  1.642886e+08  19.81   \n",
      "1    2  002679  福建金森  11.36   9.97  1.03    55800.0  6.220122e+07  11.91   \n",
      "2    3  000592  平潭发展   2.55   9.91  0.23   557905.0  1.380394e+08  11.64   \n",
      "3    4  600313  农发种业  11.31   7.10  0.75  2882207.0  3.262650e+09   8.43   \n",
      "4    5  600506  香梨股份  11.83   6.77  0.75   102129.0  1.204377e+08  12.45   \n",
      "..  ..     ...   ...    ...    ...   ...        ...           ...    ...   \n",
      "72  73  603739  蔚蓝生物  14.82  -2.82 -0.43    15373.0  2.274846e+07   2.62   \n",
      "73  74  300673  佩蒂股份  15.76  -3.02 -0.49    29466.0  4.629753e+07   3.26   \n",
      "74  75  603477  巨星农牧  16.53  -3.33 -0.57   172504.0  2.845423e+08   3.68   \n",
      "75  76  603668  天马科技  12.30  -3.91 -0.50   108372.0  1.339500e+08   4.45   \n",
      "76  77  603363  傲农生物  15.57  -7.60 -1.28   425985.0  6.641422e+08   8.07   \n",
      "\n",
      "       最高     最低     今开     昨收    换手率  市盈率-动态    市净率  \n",
      "0    7.51   6.27   6.27   6.26  12.44 -124.91  23.06  \n",
      "1   11.36  10.13  10.30  10.33   2.37  -41.19   3.59  \n",
      "2    2.55   2.28   2.30   2.32   2.91 -827.86   1.90  \n",
      "3   11.62  10.73  10.96  10.56  28.27  161.11   8.04  \n",
      "4   12.19  10.81  10.86  11.08   6.91  -53.62   7.45  \n",
      "..    ...    ...    ...    ...    ...     ...    ...  \n",
      "72  15.02  14.62  14.88  15.25   0.71   51.65   2.36  \n",
      "73  16.03  15.50  16.02  16.25   1.80   34.97   2.39  \n",
      "74  16.88  16.25  16.68  17.10   3.58   -6.72   2.83  \n",
      "75  12.71  12.14  12.70  12.80   2.68   34.88   2.84  \n",
      "76  16.53  15.17  16.51  16.85   6.39   -9.13   5.62  \n",
      "\n",
      "[77 rows x 16 columns]\n"
     ]
    }
   ],
   "source": [
    "# 获取行业股票\n",
    "# 1. 房地产开发\n",
    "fdckf_df = ak.stock_board_industry_cons_em(\"房地产开发\")\n",
    "print(fdckf_df)\n",
    "# 2. 汽车整车\n",
    "qczc_df = ak.stock_board_industry_cons_em(\"汽车整车\")\n",
    "print(qczc_df)\n",
    "# 3. 汽车零部件\n",
    "qclbj_df = ak.stock_board_industry_cons_em(\"汽车零部件\")\n",
    "print(qclbj_df)\n",
    "# 4. 工程建设\n",
    "gcjs_df = ak.stock_board_industry_cons_em(\"工程建设\")\n",
    "print(gcjs_df)\n",
    "# 5. 半导体\n",
    "bdt_df = ak.stock_board_industry_cons_em(\"半导体\")\n",
    "print(bdt_df)\n",
    "# 6. 农牧饲渔\n",
    "nmsy_df = ak.stock_board_industry_cons_em(\"农牧饲渔\")\n",
    "print(nmsy_df)\n",
    "industry_list =[fdckf_df,qczc_df,qclbj_df,gcjs_df,bdt_df,nmsy_df]\n",
    "\n",
    "current_dir = os.getcwd()\n",
    "data_path = os.path.join(current_dir, 'data')\n",
    "parent_path = os.path.dirname(current_dir)\n",
    "\n",
    "list = os.listdir(data_path)\n",
    "file_map = {};\n",
    "for filename in list:\n",
    "    code = filename.replace(\".csv\", \"\")[2:]\n",
    "    file_map[code] = filename"
   ],
   "metadata": {
    "collapsed": false,
    "pycharm": {
     "name": "#%%\n"
    }
   }
  },
  {
   "cell_type": "code",
   "execution_count": 9,
   "outputs": [
    {
     "name": "stderr",
     "output_type": "stream",
     "text": [
      "100%|██████████| 14/14 [00:14<00:00,  1.00s/it]\n"
     ]
    },
    {
     "name": "stdout",
     "output_type": "stream",
     "text": [
      "输出的文件：sz002305\n"
     ]
    },
    {
     "name": "stderr",
     "output_type": "stream",
     "text": [
      "100%|██████████| 26/26 [00:27<00:00,  1.06s/it]\n"
     ]
    },
    {
     "name": "stdout",
     "output_type": "stream",
     "text": [
      "输出的文件：sh600082\n"
     ]
    },
    {
     "name": "stderr",
     "output_type": "stream",
     "text": [
      "100%|██████████| 24/24 [00:26<00:00,  1.12s/it]\n"
     ]
    },
    {
     "name": "stdout",
     "output_type": "stream",
     "text": [
      "输出的文件：sz000926\n"
     ]
    },
    {
     "name": "stderr",
     "output_type": "stream",
     "text": [
      "100%|██████████| 29/29 [00:31<00:00,  1.08s/it]\n"
     ]
    },
    {
     "name": "stdout",
     "output_type": "stream",
     "text": [
      "输出的文件：sz000042\n"
     ]
    },
    {
     "name": "stderr",
     "output_type": "stream",
     "text": [
      "100%|██████████| 23/23 [00:26<00:00,  1.13s/it]\n"
     ]
    },
    {
     "name": "stdout",
     "output_type": "stream",
     "text": [
      "输出的文件：sh600225\n"
     ]
    },
    {
     "name": "stderr",
     "output_type": "stream",
     "text": [
      "100%|██████████| 27/27 [00:29<00:00,  1.10s/it]\n"
     ]
    },
    {
     "name": "stdout",
     "output_type": "stream",
     "text": [
      "输出的文件：sz000609\n"
     ]
    },
    {
     "name": "stderr",
     "output_type": "stream",
     "text": [
      "100%|██████████| 30/30 [00:30<00:00,  1.03s/it]\n"
     ]
    },
    {
     "name": "stdout",
     "output_type": "stream",
     "text": [
      "输出的文件：sh600683\n"
     ]
    },
    {
     "name": "stderr",
     "output_type": "stream",
     "text": [
      "100%|██████████| 26/26 [00:26<00:00,  1.02s/it]\n"
     ]
    },
    {
     "name": "stdout",
     "output_type": "stream",
     "text": [
      "输出的文件：sz000797\n",
      "200056 is none\n"
     ]
    },
    {
     "name": "stderr",
     "output_type": "stream",
     "text": [
      "100%|██████████| 27/27 [00:28<00:00,  1.07s/it]\n"
     ]
    },
    {
     "name": "stdout",
     "output_type": "stream",
     "text": [
      "输出的文件：sz000656\n"
     ]
    },
    {
     "name": "stderr",
     "output_type": "stream",
     "text": [
      "100%|██████████| 29/29 [00:30<00:00,  1.04s/it]\n"
     ]
    },
    {
     "name": "stdout",
     "output_type": "stream",
     "text": [
      "输出的文件：sz000558\n"
     ]
    },
    {
     "name": "stderr",
     "output_type": "stream",
     "text": [
      "100%|██████████| 8/8 [00:07<00:00,  1.05it/s]\n"
     ]
    },
    {
     "name": "stdout",
     "output_type": "stream",
     "text": [
      "输出的文件：sh601155\n"
     ]
    },
    {
     "name": "stderr",
     "output_type": "stream",
     "text": [
      "100%|██████████| 30/30 [00:30<00:00,  1.03s/it]\n"
     ]
    },
    {
     "name": "stdout",
     "output_type": "stream",
     "text": [
      "输出的文件：sz000537\n"
     ]
    },
    {
     "name": "stderr",
     "output_type": "stream",
     "text": [
      "100%|██████████| 29/29 [00:33<00:00,  1.15s/it]\n"
     ]
    },
    {
     "name": "stdout",
     "output_type": "stream",
     "text": [
      "输出的文件：sh600823\n"
     ]
    },
    {
     "name": "stderr",
     "output_type": "stream",
     "text": [
      "100%|██████████| 30/30 [00:39<00:00,  1.31s/it]\n"
     ]
    },
    {
     "name": "stdout",
     "output_type": "stream",
     "text": [
      "输出的文件：sh600684\n"
     ]
    },
    {
     "name": "stderr",
     "output_type": "stream",
     "text": [
      " 20%|██        | 5/25 [00:05<00:21,  1.07s/it]\n"
     ]
    },
    {
     "ename": "KeyboardInterrupt",
     "evalue": "",
     "output_type": "error",
     "traceback": [
      "\u001B[0;31m---------------------------------------------------------------------------\u001B[0m",
      "\u001B[0;31mKeyboardInterrupt\u001B[0m                         Traceback (most recent call last)",
      "Input \u001B[0;32mIn [9]\u001B[0m, in \u001B[0;36m<cell line: 18>\u001B[0;34m()\u001B[0m\n\u001B[1;32m     16\u001B[0m         tmp_df\u001B[38;5;241m.\u001B[39mto_csv(\u001B[38;5;124m\"\u001B[39m\u001B[38;5;132;01m{}\u001B[39;00m\u001B[38;5;124m/industry/\u001B[39m\u001B[38;5;132;01m{}\u001B[39;00m\u001B[38;5;124m.csv\u001B[39m\u001B[38;5;124m\"\u001B[39m\u001B[38;5;241m.\u001B[39mformat(data_path, code),index\u001B[38;5;241m=\u001B[39m\u001B[38;5;28;01mNone\u001B[39;00m)\n\u001B[1;32m     18\u001B[0m \u001B[38;5;28;01mfor\u001B[39;00m df \u001B[38;5;129;01min\u001B[39;00m industry_list:\n\u001B[0;32m---> 19\u001B[0m     \u001B[43mupdate_csv\u001B[49m\u001B[43m(\u001B[49m\u001B[43mfile_map\u001B[49m\u001B[43m,\u001B[49m\u001B[43mstock_info\u001B[49m\u001B[43m,\u001B[49m\u001B[43mdf\u001B[49m\u001B[43m)\u001B[49m\n",
      "Input \u001B[0;32mIn [9]\u001B[0m, in \u001B[0;36mupdate_csv\u001B[0;34m(file_map, stock_info, df)\u001B[0m\n\u001B[1;32m     10\u001B[0m code \u001B[38;5;241m=\u001B[39m file_name\u001B[38;5;241m.\u001B[39mreplace(\u001B[38;5;124m\"\u001B[39m\u001B[38;5;124m.csv\u001B[39m\u001B[38;5;124m\"\u001B[39m, \u001B[38;5;124m\"\u001B[39m\u001B[38;5;124m\"\u001B[39m)\n\u001B[1;32m     11\u001B[0m name \u001B[38;5;241m=\u001B[39m stock_info[stock_info[\u001B[38;5;124m'\u001B[39m\u001B[38;5;124m代码\u001B[39m\u001B[38;5;124m'\u001B[39m] \u001B[38;5;241m==\u001B[39m code][\u001B[38;5;124m'\u001B[39m\u001B[38;5;124m简称\u001B[39m\u001B[38;5;124m'\u001B[39m]\u001B[38;5;241m.\u001B[39miloc[\u001B[38;5;241m0\u001B[39m]\n\u001B[0;32m---> 12\u001B[0m tmp_df \u001B[38;5;241m=\u001B[39m \u001B[43mak\u001B[49m\u001B[38;5;241;43m.\u001B[39;49m\u001B[43mstock_zh_index_daily_tx\u001B[49m\u001B[43m(\u001B[49m\u001B[43mcode\u001B[49m\u001B[43m)\u001B[49m\n\u001B[1;32m     13\u001B[0m tmp_df[\u001B[38;5;124m'\u001B[39m\u001B[38;5;124mcode\u001B[39m\u001B[38;5;124m'\u001B[39m] \u001B[38;5;241m=\u001B[39m code\n\u001B[1;32m     14\u001B[0m tmp_df[\u001B[38;5;124m'\u001B[39m\u001B[38;5;124mname\u001B[39m\u001B[38;5;124m'\u001B[39m] \u001B[38;5;241m=\u001B[39m name\n",
      "File \u001B[0;32m~/gitee/financial_lab/venv/lib/python3.8/site-packages/akshare/index/zh_stock_index_sina.py:200\u001B[0m, in \u001B[0;36mstock_zh_index_daily_tx\u001B[0;34m(symbol)\u001B[0m\n\u001B[1;32m    194\u001B[0m \u001B[38;5;28;01mfor\u001B[39;00m year \u001B[38;5;129;01min\u001B[39;00m tqdm(\u001B[38;5;28mrange\u001B[39m(range_start, range_end)):\n\u001B[1;32m    195\u001B[0m     params \u001B[38;5;241m=\u001B[39m {\n\u001B[1;32m    196\u001B[0m         \u001B[38;5;124m\"\u001B[39m\u001B[38;5;124m_var\u001B[39m\u001B[38;5;124m\"\u001B[39m: \u001B[38;5;124m\"\u001B[39m\u001B[38;5;124mkline_dayqfq\u001B[39m\u001B[38;5;124m\"\u001B[39m,\n\u001B[1;32m    197\u001B[0m         \u001B[38;5;124m\"\u001B[39m\u001B[38;5;124mparam\u001B[39m\u001B[38;5;124m\"\u001B[39m: \u001B[38;5;124mf\u001B[39m\u001B[38;5;124m\"\u001B[39m\u001B[38;5;132;01m{\u001B[39;00msymbol\u001B[38;5;132;01m}\u001B[39;00m\u001B[38;5;124m,day,\u001B[39m\u001B[38;5;132;01m{\u001B[39;00myear\u001B[38;5;132;01m}\u001B[39;00m\u001B[38;5;124m-01-01,\u001B[39m\u001B[38;5;132;01m{\u001B[39;00myear \u001B[38;5;241m+\u001B[39m \u001B[38;5;241m1\u001B[39m\u001B[38;5;132;01m}\u001B[39;00m\u001B[38;5;124m-12-31,640,qfq\u001B[39m\u001B[38;5;124m\"\u001B[39m,\n\u001B[1;32m    198\u001B[0m         \u001B[38;5;124m\"\u001B[39m\u001B[38;5;124mr\u001B[39m\u001B[38;5;124m\"\u001B[39m: \u001B[38;5;124m\"\u001B[39m\u001B[38;5;124m0.8205512681390605\u001B[39m\u001B[38;5;124m\"\u001B[39m,\n\u001B[1;32m    199\u001B[0m     }\n\u001B[0;32m--> 200\u001B[0m     res \u001B[38;5;241m=\u001B[39m \u001B[43mrequests\u001B[49m\u001B[38;5;241;43m.\u001B[39;49m\u001B[43mget\u001B[49m\u001B[43m(\u001B[49m\u001B[43murl\u001B[49m\u001B[43m,\u001B[49m\u001B[43m \u001B[49m\u001B[43mparams\u001B[49m\u001B[38;5;241;43m=\u001B[39;49m\u001B[43mparams\u001B[49m\u001B[43m)\u001B[49m\n\u001B[1;32m    201\u001B[0m     text \u001B[38;5;241m=\u001B[39m res\u001B[38;5;241m.\u001B[39mtext\n\u001B[1;32m    202\u001B[0m     \u001B[38;5;28;01mtry\u001B[39;00m:\n",
      "File \u001B[0;32m~/gitee/financial_lab/venv/lib/python3.8/site-packages/requests/api.py:72\u001B[0m, in \u001B[0;36mget\u001B[0;34m(url, params, **kwargs)\u001B[0m\n\u001B[1;32m     62\u001B[0m \u001B[38;5;124mr\u001B[39m\u001B[38;5;124;03m\"\"\"Sends a GET request.\u001B[39;00m\n\u001B[1;32m     63\u001B[0m \n\u001B[1;32m     64\u001B[0m \u001B[38;5;124;03m:param url: URL for the new :class:`Request` object.\u001B[39;00m\n\u001B[0;32m   (...)\u001B[0m\n\u001B[1;32m     68\u001B[0m \u001B[38;5;124;03m:rtype: requests.Response\u001B[39;00m\n\u001B[1;32m     69\u001B[0m \u001B[38;5;124;03m\"\"\"\u001B[39;00m\n\u001B[1;32m     71\u001B[0m kwargs\u001B[38;5;241m.\u001B[39msetdefault(\u001B[38;5;124m'\u001B[39m\u001B[38;5;124mallow_redirects\u001B[39m\u001B[38;5;124m'\u001B[39m, \u001B[38;5;28;01mTrue\u001B[39;00m)\n\u001B[0;32m---> 72\u001B[0m \u001B[38;5;28;01mreturn\u001B[39;00m \u001B[43mrequest\u001B[49m\u001B[43m(\u001B[49m\u001B[38;5;124;43m'\u001B[39;49m\u001B[38;5;124;43mget\u001B[39;49m\u001B[38;5;124;43m'\u001B[39;49m\u001B[43m,\u001B[49m\u001B[43m \u001B[49m\u001B[43murl\u001B[49m\u001B[43m,\u001B[49m\u001B[43m \u001B[49m\u001B[43mparams\u001B[49m\u001B[38;5;241;43m=\u001B[39;49m\u001B[43mparams\u001B[49m\u001B[43m,\u001B[49m\u001B[43m \u001B[49m\u001B[38;5;241;43m*\u001B[39;49m\u001B[38;5;241;43m*\u001B[39;49m\u001B[43mkwargs\u001B[49m\u001B[43m)\u001B[49m\n",
      "File \u001B[0;32m~/gitee/financial_lab/venv/lib/python3.8/site-packages/requests/api.py:58\u001B[0m, in \u001B[0;36mrequest\u001B[0;34m(method, url, **kwargs)\u001B[0m\n\u001B[1;32m     54\u001B[0m \u001B[38;5;66;03m# By using the 'with' statement we are sure the session is closed, thus we\u001B[39;00m\n\u001B[1;32m     55\u001B[0m \u001B[38;5;66;03m# avoid leaving sockets open which can trigger a ResourceWarning in some\u001B[39;00m\n\u001B[1;32m     56\u001B[0m \u001B[38;5;66;03m# cases, and look like a memory leak in others.\u001B[39;00m\n\u001B[1;32m     57\u001B[0m \u001B[38;5;28;01mwith\u001B[39;00m sessions\u001B[38;5;241m.\u001B[39mSession() \u001B[38;5;28;01mas\u001B[39;00m session:\n\u001B[0;32m---> 58\u001B[0m     \u001B[38;5;28;01mreturn\u001B[39;00m \u001B[43msession\u001B[49m\u001B[38;5;241;43m.\u001B[39;49m\u001B[43mrequest\u001B[49m\u001B[43m(\u001B[49m\u001B[43mmethod\u001B[49m\u001B[38;5;241;43m=\u001B[39;49m\u001B[43mmethod\u001B[49m\u001B[43m,\u001B[49m\u001B[43m \u001B[49m\u001B[43murl\u001B[49m\u001B[38;5;241;43m=\u001B[39;49m\u001B[43murl\u001B[49m\u001B[43m,\u001B[49m\u001B[43m \u001B[49m\u001B[38;5;241;43m*\u001B[39;49m\u001B[38;5;241;43m*\u001B[39;49m\u001B[43mkwargs\u001B[49m\u001B[43m)\u001B[49m\n",
      "File \u001B[0;32m~/gitee/financial_lab/venv/lib/python3.8/site-packages/requests/sessions.py:512\u001B[0m, in \u001B[0;36mSession.request\u001B[0;34m(self, method, url, params, data, headers, cookies, files, auth, timeout, allow_redirects, proxies, hooks, stream, verify, cert, json)\u001B[0m\n\u001B[1;32m    507\u001B[0m send_kwargs \u001B[38;5;241m=\u001B[39m {\n\u001B[1;32m    508\u001B[0m     \u001B[38;5;124m'\u001B[39m\u001B[38;5;124mtimeout\u001B[39m\u001B[38;5;124m'\u001B[39m: timeout,\n\u001B[1;32m    509\u001B[0m     \u001B[38;5;124m'\u001B[39m\u001B[38;5;124mallow_redirects\u001B[39m\u001B[38;5;124m'\u001B[39m: allow_redirects,\n\u001B[1;32m    510\u001B[0m }\n\u001B[1;32m    511\u001B[0m send_kwargs\u001B[38;5;241m.\u001B[39mupdate(settings)\n\u001B[0;32m--> 512\u001B[0m resp \u001B[38;5;241m=\u001B[39m \u001B[38;5;28;43mself\u001B[39;49m\u001B[38;5;241;43m.\u001B[39;49m\u001B[43msend\u001B[49m\u001B[43m(\u001B[49m\u001B[43mprep\u001B[49m\u001B[43m,\u001B[49m\u001B[43m \u001B[49m\u001B[38;5;241;43m*\u001B[39;49m\u001B[38;5;241;43m*\u001B[39;49m\u001B[43msend_kwargs\u001B[49m\u001B[43m)\u001B[49m\n\u001B[1;32m    514\u001B[0m \u001B[38;5;28;01mreturn\u001B[39;00m resp\n",
      "File \u001B[0;32m~/gitee/financial_lab/venv/lib/python3.8/site-packages/requests/sessions.py:622\u001B[0m, in \u001B[0;36mSession.send\u001B[0;34m(self, request, **kwargs)\u001B[0m\n\u001B[1;32m    619\u001B[0m start \u001B[38;5;241m=\u001B[39m preferred_clock()\n\u001B[1;32m    621\u001B[0m \u001B[38;5;66;03m# Send the request\u001B[39;00m\n\u001B[0;32m--> 622\u001B[0m r \u001B[38;5;241m=\u001B[39m \u001B[43madapter\u001B[49m\u001B[38;5;241;43m.\u001B[39;49m\u001B[43msend\u001B[49m\u001B[43m(\u001B[49m\u001B[43mrequest\u001B[49m\u001B[43m,\u001B[49m\u001B[43m \u001B[49m\u001B[38;5;241;43m*\u001B[39;49m\u001B[38;5;241;43m*\u001B[39;49m\u001B[43mkwargs\u001B[49m\u001B[43m)\u001B[49m\n\u001B[1;32m    624\u001B[0m \u001B[38;5;66;03m# Total elapsed time of the request (approximately)\u001B[39;00m\n\u001B[1;32m    625\u001B[0m elapsed \u001B[38;5;241m=\u001B[39m preferred_clock() \u001B[38;5;241m-\u001B[39m start\n",
      "File \u001B[0;32m~/gitee/financial_lab/venv/lib/python3.8/site-packages/requests/adapters.py:435\u001B[0m, in \u001B[0;36mHTTPAdapter.send\u001B[0;34m(self, request, stream, timeout, verify, cert, proxies)\u001B[0m\n\u001B[1;32m    433\u001B[0m \u001B[38;5;28;01mtry\u001B[39;00m:\n\u001B[1;32m    434\u001B[0m     \u001B[38;5;28;01mif\u001B[39;00m \u001B[38;5;129;01mnot\u001B[39;00m chunked:\n\u001B[0;32m--> 435\u001B[0m         resp \u001B[38;5;241m=\u001B[39m \u001B[43mconn\u001B[49m\u001B[38;5;241;43m.\u001B[39;49m\u001B[43murlopen\u001B[49m\u001B[43m(\u001B[49m\n\u001B[1;32m    436\u001B[0m \u001B[43m            \u001B[49m\u001B[43mmethod\u001B[49m\u001B[38;5;241;43m=\u001B[39;49m\u001B[43mrequest\u001B[49m\u001B[38;5;241;43m.\u001B[39;49m\u001B[43mmethod\u001B[49m\u001B[43m,\u001B[49m\n\u001B[1;32m    437\u001B[0m \u001B[43m            \u001B[49m\u001B[43murl\u001B[49m\u001B[38;5;241;43m=\u001B[39;49m\u001B[43murl\u001B[49m\u001B[43m,\u001B[49m\n\u001B[1;32m    438\u001B[0m \u001B[43m            \u001B[49m\u001B[43mbody\u001B[49m\u001B[38;5;241;43m=\u001B[39;49m\u001B[43mrequest\u001B[49m\u001B[38;5;241;43m.\u001B[39;49m\u001B[43mbody\u001B[49m\u001B[43m,\u001B[49m\n\u001B[1;32m    439\u001B[0m \u001B[43m            \u001B[49m\u001B[43mheaders\u001B[49m\u001B[38;5;241;43m=\u001B[39;49m\u001B[43mrequest\u001B[49m\u001B[38;5;241;43m.\u001B[39;49m\u001B[43mheaders\u001B[49m\u001B[43m,\u001B[49m\n\u001B[1;32m    440\u001B[0m \u001B[43m            \u001B[49m\u001B[43mredirect\u001B[49m\u001B[38;5;241;43m=\u001B[39;49m\u001B[38;5;28;43;01mFalse\u001B[39;49;00m\u001B[43m,\u001B[49m\n\u001B[1;32m    441\u001B[0m \u001B[43m            \u001B[49m\u001B[43massert_same_host\u001B[49m\u001B[38;5;241;43m=\u001B[39;49m\u001B[38;5;28;43;01mFalse\u001B[39;49;00m\u001B[43m,\u001B[49m\n\u001B[1;32m    442\u001B[0m \u001B[43m            \u001B[49m\u001B[43mpreload_content\u001B[49m\u001B[38;5;241;43m=\u001B[39;49m\u001B[38;5;28;43;01mFalse\u001B[39;49;00m\u001B[43m,\u001B[49m\n\u001B[1;32m    443\u001B[0m \u001B[43m            \u001B[49m\u001B[43mdecode_content\u001B[49m\u001B[38;5;241;43m=\u001B[39;49m\u001B[38;5;28;43;01mFalse\u001B[39;49;00m\u001B[43m,\u001B[49m\n\u001B[1;32m    444\u001B[0m \u001B[43m            \u001B[49m\u001B[43mretries\u001B[49m\u001B[38;5;241;43m=\u001B[39;49m\u001B[38;5;28;43mself\u001B[39;49m\u001B[38;5;241;43m.\u001B[39;49m\u001B[43mmax_retries\u001B[49m\u001B[43m,\u001B[49m\n\u001B[1;32m    445\u001B[0m \u001B[43m            \u001B[49m\u001B[43mtimeout\u001B[49m\u001B[38;5;241;43m=\u001B[39;49m\u001B[43mtimeout\u001B[49m\n\u001B[1;32m    446\u001B[0m \u001B[43m        \u001B[49m\u001B[43m)\u001B[49m\n\u001B[1;32m    448\u001B[0m     \u001B[38;5;66;03m# Send the request.\u001B[39;00m\n\u001B[1;32m    449\u001B[0m     \u001B[38;5;28;01melse\u001B[39;00m:\n\u001B[1;32m    450\u001B[0m         \u001B[38;5;28;01mif\u001B[39;00m \u001B[38;5;28mhasattr\u001B[39m(conn, \u001B[38;5;124m'\u001B[39m\u001B[38;5;124mproxy_pool\u001B[39m\u001B[38;5;124m'\u001B[39m):\n",
      "File \u001B[0;32m~/gitee/financial_lab/venv/lib/python3.8/site-packages/urllib3/connectionpool.py:597\u001B[0m, in \u001B[0;36mHTTPConnectionPool.urlopen\u001B[0;34m(self, method, url, body, headers, retries, redirect, assert_same_host, timeout, pool_timeout, release_conn, chunked, body_pos, **response_kw)\u001B[0m\n\u001B[1;32m    594\u001B[0m     \u001B[38;5;28mself\u001B[39m\u001B[38;5;241m.\u001B[39m_prepare_proxy(conn)\n\u001B[1;32m    596\u001B[0m \u001B[38;5;66;03m# Make the request on the httplib connection object.\u001B[39;00m\n\u001B[0;32m--> 597\u001B[0m httplib_response \u001B[38;5;241m=\u001B[39m \u001B[38;5;28;43mself\u001B[39;49m\u001B[38;5;241;43m.\u001B[39;49m\u001B[43m_make_request\u001B[49m\u001B[43m(\u001B[49m\u001B[43mconn\u001B[49m\u001B[43m,\u001B[49m\u001B[43m \u001B[49m\u001B[43mmethod\u001B[49m\u001B[43m,\u001B[49m\u001B[43m \u001B[49m\u001B[43murl\u001B[49m\u001B[43m,\u001B[49m\n\u001B[1;32m    598\u001B[0m \u001B[43m                                      \u001B[49m\u001B[43mtimeout\u001B[49m\u001B[38;5;241;43m=\u001B[39;49m\u001B[43mtimeout_obj\u001B[49m\u001B[43m,\u001B[49m\n\u001B[1;32m    599\u001B[0m \u001B[43m                                      \u001B[49m\u001B[43mbody\u001B[49m\u001B[38;5;241;43m=\u001B[39;49m\u001B[43mbody\u001B[49m\u001B[43m,\u001B[49m\u001B[43m \u001B[49m\u001B[43mheaders\u001B[49m\u001B[38;5;241;43m=\u001B[39;49m\u001B[43mheaders\u001B[49m\u001B[43m,\u001B[49m\n\u001B[1;32m    600\u001B[0m \u001B[43m                                      \u001B[49m\u001B[43mchunked\u001B[49m\u001B[38;5;241;43m=\u001B[39;49m\u001B[43mchunked\u001B[49m\u001B[43m)\u001B[49m\n\u001B[1;32m    602\u001B[0m \u001B[38;5;66;03m# If we're going to release the connection in ``finally:``, then\u001B[39;00m\n\u001B[1;32m    603\u001B[0m \u001B[38;5;66;03m# the response doesn't need to know about the connection. Otherwise\u001B[39;00m\n\u001B[1;32m    604\u001B[0m \u001B[38;5;66;03m# it will also try to release it and we'll have a double-release\u001B[39;00m\n\u001B[1;32m    605\u001B[0m \u001B[38;5;66;03m# mess.\u001B[39;00m\n\u001B[1;32m    606\u001B[0m response_conn \u001B[38;5;241m=\u001B[39m conn \u001B[38;5;28;01mif\u001B[39;00m \u001B[38;5;129;01mnot\u001B[39;00m release_conn \u001B[38;5;28;01melse\u001B[39;00m \u001B[38;5;28;01mNone\u001B[39;00m\n",
      "File \u001B[0;32m~/gitee/financial_lab/venv/lib/python3.8/site-packages/urllib3/connectionpool.py:343\u001B[0m, in \u001B[0;36mHTTPConnectionPool._make_request\u001B[0;34m(self, conn, method, url, timeout, chunked, **httplib_request_kw)\u001B[0m\n\u001B[1;32m    341\u001B[0m \u001B[38;5;66;03m# Trigger any extra validation we need to do.\u001B[39;00m\n\u001B[1;32m    342\u001B[0m \u001B[38;5;28;01mtry\u001B[39;00m:\n\u001B[0;32m--> 343\u001B[0m     \u001B[38;5;28;43mself\u001B[39;49m\u001B[38;5;241;43m.\u001B[39;49m\u001B[43m_validate_conn\u001B[49m\u001B[43m(\u001B[49m\u001B[43mconn\u001B[49m\u001B[43m)\u001B[49m\n\u001B[1;32m    344\u001B[0m \u001B[38;5;28;01mexcept\u001B[39;00m (SocketTimeout, BaseSSLError) \u001B[38;5;28;01mas\u001B[39;00m e:\n\u001B[1;32m    345\u001B[0m     \u001B[38;5;66;03m# Py2 raises this as a BaseSSLError, Py3 raises it as socket timeout.\u001B[39;00m\n\u001B[1;32m    346\u001B[0m     \u001B[38;5;28mself\u001B[39m\u001B[38;5;241m.\u001B[39m_raise_timeout(err\u001B[38;5;241m=\u001B[39me, url\u001B[38;5;241m=\u001B[39murl, timeout_value\u001B[38;5;241m=\u001B[39mconn\u001B[38;5;241m.\u001B[39mtimeout)\n",
      "File \u001B[0;32m~/gitee/financial_lab/venv/lib/python3.8/site-packages/urllib3/connectionpool.py:849\u001B[0m, in \u001B[0;36mHTTPSConnectionPool._validate_conn\u001B[0;34m(self, conn)\u001B[0m\n\u001B[1;32m    847\u001B[0m \u001B[38;5;66;03m# Force connect early to allow us to validate the connection.\u001B[39;00m\n\u001B[1;32m    848\u001B[0m \u001B[38;5;28;01mif\u001B[39;00m \u001B[38;5;129;01mnot\u001B[39;00m \u001B[38;5;28mgetattr\u001B[39m(conn, \u001B[38;5;124m'\u001B[39m\u001B[38;5;124msock\u001B[39m\u001B[38;5;124m'\u001B[39m, \u001B[38;5;28;01mNone\u001B[39;00m):  \u001B[38;5;66;03m# AppEngine might not have  `.sock`\u001B[39;00m\n\u001B[0;32m--> 849\u001B[0m     \u001B[43mconn\u001B[49m\u001B[38;5;241;43m.\u001B[39;49m\u001B[43mconnect\u001B[49m\u001B[43m(\u001B[49m\u001B[43m)\u001B[49m\n\u001B[1;32m    851\u001B[0m \u001B[38;5;28;01mif\u001B[39;00m \u001B[38;5;129;01mnot\u001B[39;00m conn\u001B[38;5;241m.\u001B[39mis_verified:\n\u001B[1;32m    852\u001B[0m     warnings\u001B[38;5;241m.\u001B[39mwarn((\n\u001B[1;32m    853\u001B[0m         \u001B[38;5;124m'\u001B[39m\u001B[38;5;124mUnverified HTTPS request is being made. \u001B[39m\u001B[38;5;124m'\u001B[39m\n\u001B[1;32m    854\u001B[0m         \u001B[38;5;124m'\u001B[39m\u001B[38;5;124mAdding certificate verification is strongly advised. See: \u001B[39m\u001B[38;5;124m'\u001B[39m\n\u001B[1;32m    855\u001B[0m         \u001B[38;5;124m'\u001B[39m\u001B[38;5;124mhttps://urllib3.readthedocs.io/en/latest/advanced-usage.html\u001B[39m\u001B[38;5;124m'\u001B[39m\n\u001B[1;32m    856\u001B[0m         \u001B[38;5;124m'\u001B[39m\u001B[38;5;124m#ssl-warnings\u001B[39m\u001B[38;5;124m'\u001B[39m),\n\u001B[1;32m    857\u001B[0m         InsecureRequestWarning)\n",
      "File \u001B[0;32m~/gitee/financial_lab/venv/lib/python3.8/site-packages/urllib3/connection.py:314\u001B[0m, in \u001B[0;36mVerifiedHTTPSConnection.connect\u001B[0;34m(self)\u001B[0m\n\u001B[1;32m    312\u001B[0m \u001B[38;5;28;01mdef\u001B[39;00m \u001B[38;5;21mconnect\u001B[39m(\u001B[38;5;28mself\u001B[39m):\n\u001B[1;32m    313\u001B[0m     \u001B[38;5;66;03m# Add certificate verification\u001B[39;00m\n\u001B[0;32m--> 314\u001B[0m     conn \u001B[38;5;241m=\u001B[39m \u001B[38;5;28;43mself\u001B[39;49m\u001B[38;5;241;43m.\u001B[39;49m\u001B[43m_new_conn\u001B[49m\u001B[43m(\u001B[49m\u001B[43m)\u001B[49m\n\u001B[1;32m    316\u001B[0m     hostname \u001B[38;5;241m=\u001B[39m \u001B[38;5;28mself\u001B[39m\u001B[38;5;241m.\u001B[39mhost\n\u001B[1;32m    317\u001B[0m     \u001B[38;5;28;01mif\u001B[39;00m \u001B[38;5;28mgetattr\u001B[39m(\u001B[38;5;28mself\u001B[39m, \u001B[38;5;124m'\u001B[39m\u001B[38;5;124m_tunnel_host\u001B[39m\u001B[38;5;124m'\u001B[39m, \u001B[38;5;28;01mNone\u001B[39;00m):\n\u001B[1;32m    318\u001B[0m         \u001B[38;5;66;03m# _tunnel_host was added in Python 2.6.3\u001B[39;00m\n\u001B[1;32m    319\u001B[0m         \u001B[38;5;66;03m# (See: http://hg.python.org/cpython/rev/0f57b30a152f)\u001B[39;00m\n",
      "File \u001B[0;32m~/gitee/financial_lab/venv/lib/python3.8/site-packages/urllib3/connection.py:170\u001B[0m, in \u001B[0;36mHTTPConnection._new_conn\u001B[0;34m(self)\u001B[0m\n\u001B[1;32m    167\u001B[0m     extra_kw[\u001B[38;5;124m'\u001B[39m\u001B[38;5;124msocket_options\u001B[39m\u001B[38;5;124m'\u001B[39m] \u001B[38;5;241m=\u001B[39m \u001B[38;5;28mself\u001B[39m\u001B[38;5;241m.\u001B[39msocket_options\n\u001B[1;32m    169\u001B[0m \u001B[38;5;28;01mtry\u001B[39;00m:\n\u001B[0;32m--> 170\u001B[0m     conn \u001B[38;5;241m=\u001B[39m \u001B[43mconnection\u001B[49m\u001B[38;5;241;43m.\u001B[39;49m\u001B[43mcreate_connection\u001B[49m\u001B[43m(\u001B[49m\n\u001B[1;32m    171\u001B[0m \u001B[43m        \u001B[49m\u001B[43m(\u001B[49m\u001B[38;5;28;43mself\u001B[39;49m\u001B[38;5;241;43m.\u001B[39;49m\u001B[43m_dns_host\u001B[49m\u001B[43m,\u001B[49m\u001B[43m \u001B[49m\u001B[38;5;28;43mself\u001B[39;49m\u001B[38;5;241;43m.\u001B[39;49m\u001B[43mport\u001B[49m\u001B[43m)\u001B[49m\u001B[43m,\u001B[49m\u001B[43m \u001B[49m\u001B[38;5;28;43mself\u001B[39;49m\u001B[38;5;241;43m.\u001B[39;49m\u001B[43mtimeout\u001B[49m\u001B[43m,\u001B[49m\u001B[43m \u001B[49m\u001B[38;5;241;43m*\u001B[39;49m\u001B[38;5;241;43m*\u001B[39;49m\u001B[43mextra_kw\u001B[49m\u001B[43m)\u001B[49m\n\u001B[1;32m    173\u001B[0m \u001B[38;5;28;01mexcept\u001B[39;00m SocketTimeout \u001B[38;5;28;01mas\u001B[39;00m e:\n\u001B[1;32m    174\u001B[0m     \u001B[38;5;28;01mraise\u001B[39;00m ConnectTimeoutError(\n\u001B[1;32m    175\u001B[0m         \u001B[38;5;28mself\u001B[39m, \u001B[38;5;124m\"\u001B[39m\u001B[38;5;124mConnection to \u001B[39m\u001B[38;5;132;01m%s\u001B[39;00m\u001B[38;5;124m timed out. (connect timeout=\u001B[39m\u001B[38;5;132;01m%s\u001B[39;00m\u001B[38;5;124m)\u001B[39m\u001B[38;5;124m\"\u001B[39m \u001B[38;5;241m%\u001B[39m\n\u001B[1;32m    176\u001B[0m         (\u001B[38;5;28mself\u001B[39m\u001B[38;5;241m.\u001B[39mhost, \u001B[38;5;28mself\u001B[39m\u001B[38;5;241m.\u001B[39mtimeout))\n",
      "File \u001B[0;32m~/gitee/financial_lab/venv/lib/python3.8/site-packages/urllib3/util/connection.py:69\u001B[0m, in \u001B[0;36mcreate_connection\u001B[0;34m(address, timeout, source_address, socket_options)\u001B[0m\n\u001B[1;32m     67\u001B[0m     \u001B[38;5;28;01mif\u001B[39;00m source_address:\n\u001B[1;32m     68\u001B[0m         sock\u001B[38;5;241m.\u001B[39mbind(source_address)\n\u001B[0;32m---> 69\u001B[0m     \u001B[43msock\u001B[49m\u001B[38;5;241;43m.\u001B[39;49m\u001B[43mconnect\u001B[49m\u001B[43m(\u001B[49m\u001B[43msa\u001B[49m\u001B[43m)\u001B[49m\n\u001B[1;32m     70\u001B[0m     \u001B[38;5;28;01mreturn\u001B[39;00m sock\n\u001B[1;32m     72\u001B[0m \u001B[38;5;28;01mexcept\u001B[39;00m socket\u001B[38;5;241m.\u001B[39merror \u001B[38;5;28;01mas\u001B[39;00m e:\n",
      "\u001B[0;31mKeyboardInterrupt\u001B[0m: "
     ]
    }
   ],
   "source": [
    "stock_info = pd.read_csv(parent_path + '/source/sock_all.csv')\n",
    "\n",
    "def update_csv(stock_info,df):\n",
    "    for code in df[\"代码\"]:\n",
    "        try:\n",
    "            file_name = file_map[code]\n",
    "        except:\n",
    "            print(code + \" is none\")\n",
    "            continue\n",
    "        code = file_name.replace(\".csv\", \"\")\n",
    "        name = stock_info[stock_info['代码'] == code]['简称'].iloc[0]\n",
    "        tmp_df = ak.stock_zh_index_daily_tx(code)\n",
    "        tmp_df['code'] = code\n",
    "        tmp_df['name'] = name\n",
    "        print(\"输出的文件：\" + code)\n",
    "        tmp_df.to_csv(\"{}/industry/{}.csv\".format(data_path, code),index=None)\n",
    "\n",
    "for df in industry_list:\n",
    "    update_csv(file_map,stock_info,df)"
   ],
   "metadata": {
    "collapsed": false,
    "pycharm": {
     "name": "#%%\n"
    }
   }
  },
  {
   "cell_type": "code",
   "execution_count": 26,
   "outputs": [
    {
     "name": "stdout",
     "output_type": "stream",
     "text": [
      "该股票不在主板中。\n"
     ]
    }
   ],
   "source": [
    "stock_code = \"300180\"\n",
    "try:\n",
    "    stock_info = stock_info[stock_info[\"板块\"]==\"主板\"]\n",
    "    tmpe = stock_info[stock_info['代码'].str.contains(stock_code)].iloc[0][['代码','简称']]\n",
    "    code = tmpe[0]\n",
    "    name = tmpe[1]\n",
    "    print(code,name)\n",
    "except:\n",
    "    print(\"该股票不在主板中。\")"
   ],
   "metadata": {
    "collapsed": false,
    "pycharm": {
     "name": "#%%\n"
    }
   }
  },
  {
   "cell_type": "code",
   "execution_count": 25,
   "outputs": [],
   "source": [],
   "metadata": {
    "collapsed": false,
    "pycharm": {
     "name": "#%%\n"
    }
   }
  },
  {
   "cell_type": "code",
   "execution_count": null,
   "outputs": [],
   "source": [],
   "metadata": {
    "collapsed": false,
    "pycharm": {
     "name": "#%%\n"
    }
   }
  }
 ],
 "metadata": {
  "kernelspec": {
   "display_name": "Python 3",
   "language": "python",
   "name": "python3"
  },
  "language_info": {
   "codemirror_mode": {
    "name": "ipython",
    "version": 2
   },
   "file_extension": ".py",
   "mimetype": "text/x-python",
   "name": "python",
   "nbconvert_exporter": "python",
   "pygments_lexer": "ipython2",
   "version": "2.7.6"
  }
 },
 "nbformat": 4,
 "nbformat_minor": 0
}