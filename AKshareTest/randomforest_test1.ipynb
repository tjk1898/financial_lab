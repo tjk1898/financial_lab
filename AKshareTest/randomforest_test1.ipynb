{
 "cells": [
  {
   "cell_type": "code",
   "execution_count": null,
   "metadata": {
    "collapsed": true
   },
   "outputs": [],
   "source": [
    "# 使用rf进行预测\n",
    "# x\n",
    "# 前一周的\n",
    "# K线指标： 开盘，收盘，最大值，最小值\n",
    "# 资金流入指标：主力资金流入，超大单资金流入，大单资金流入，中单，小单\n",
    "# y：增长率\n",
    "# （第二天的均值-前一天的均值）/前一天的均值\n",
    "#\n",
    "# 如果增长率超过5%，就购买\n",
    "#\n",
    "# 可以产生多个模型，分别是增长率超过5%，涨停和7日内增长率。\n",
    "#\n"
   ]
  },
  {
   "cell_type": "code",
   "execution_count": 1,
   "outputs": [],
   "source": [
    "from numpy import array\n",
    "from numpy import asarray\n",
    "from pandas import read_csv\n",
    "from pandas import DataFrame\n",
    "from pandas import concat\n",
    "from sklearn.metrics import mean_absolute_error\n",
    "from sklearn.ensemble import RandomForestRegressor\n",
    "from matplotlib import pyplot\n",
    "import akshare as ak"
   ],
   "metadata": {
    "collapsed": false,
    "pycharm": {
     "name": "#%%\n"
    }
   }
  },
  {
   "cell_type": "markdown",
   "source": [
    "# 1. 数据获取\n",
    "## 1.1 K线指标的历史数据\n",
    "### 1.1.1 如何选择股票\n",
    "1. 行业龙头\n",
    "2. 近期有资金流入\n",
    "3. 波动较大，近一年出现过涨停\n",
    "\n",
    "### 1.1.2 获取数据\n",
    "1. K线数据\n",
    "2. 均线数据\n",
    "3. 资金流入数据"
   ],
   "metadata": {
    "collapsed": false
   }
  },
  {
   "cell_type": "code",
   "execution_count": null,
   "outputs": [],
   "source": [
    "ak.stock_zh_index_daily_em()"
   ],
   "metadata": {
    "collapsed": false,
    "pycharm": {
     "name": "#%%\n"
    }
   }
  },
  {
   "cell_type": "markdown",
   "source": [
    "# 2. 特征转换\n",
    "## 2.1 定义x，y\n",
    "因为想产生多个预估，分别是：\n",
    "1. 第二天增量5%。y=（第二天的均值-第一天的均值）/第二天的均值>5%\n",
    "2. 第二天涨停10% y=（第二天的最高值-第一天的均值）/第二天的最高值 > 10%\n",
    "3. 一周内增长50% y=（后一周的最高值-第一天的均值）/第二天的最高值 > 50%\n",
    "## 2.2 数据合并\n",
    "股票，日期，最大值，最小值，开盘，收盘，日均值，\n",
    "主力资金流入比例，超大单流入比例，大单流入比例，小单流入比例，\n",
    "第二天增幅\n",
    "## 2.3 转换成可以被rf模型使用的数据\n",
    "将合并后的数据做滑动窗口"
   ],
   "metadata": {
    "collapsed": false,
    "pycharm": {
     "name": "#%% md\n"
    }
   }
  },
  {
   "cell_type": "code",
   "execution_count": null,
   "outputs": [],
   "source": [],
   "metadata": {
    "collapsed": false,
    "pycharm": {
     "name": "#%%\n"
    }
   }
  },
  {
   "cell_type": "markdown",
   "source": [
    "# 3. 拆分训练集和测试集\n",
    "按照80%训练，20%测试，进行数据测试"
   ],
   "metadata": {
    "collapsed": false,
    "pycharm": {
     "name": "#%% md\n"
    }
   }
  },
  {
   "cell_type": "code",
   "execution_count": null,
   "outputs": [],
   "source": [],
   "metadata": {
    "collapsed": false,
    "pycharm": {
     "name": "#%%\n"
    }
   }
  },
  {
   "cell_type": "markdown",
   "source": [
    "# 4. 训练模型\n",
    "将训练后的模型导出"
   ],
   "metadata": {
    "collapsed": false,
    "pycharm": {
     "name": "#%% md\n"
    }
   }
  },
  {
   "cell_type": "code",
   "execution_count": null,
   "outputs": [],
   "source": [],
   "metadata": {
    "collapsed": false,
    "pycharm": {
     "name": "#%%\n"
    }
   }
  },
  {
   "cell_type": "markdown",
   "source": [
    "# 5. 进入回测系统进行测试\n",
    "1. 输入多只股票的数据x值\n",
    "2. 输出：\n",
    "    1. 选择哪只股票\n",
    "    2. 如何买入\n",
    "    3. 如何卖出\n",
    "    4. 加减仓暂时不交给股票进行操作\n",
    "3. \n",
    "\n",
    "如何对多只股票进行预测\n",
    "猜想：\n",
    "1. 将多只股票，按照时间序列组合成一条数据\n",
    "2. 设置买卖点位和价格"
   ],
   "metadata": {
    "collapsed": false,
    "pycharm": {
     "name": "#%% md\n"
    }
   }
  },
  {
   "cell_type": "code",
   "execution_count": null,
   "outputs": [],
   "source": [
    "#\n",
    "\n",
    "\n"
   ],
   "metadata": {
    "collapsed": false,
    "pycharm": {
     "name": "#%%\n"
    }
   }
  }
 ],
 "metadata": {
  "kernelspec": {
   "display_name": "Python 3",
   "language": "python",
   "name": "python3"
  },
  "language_info": {
   "codemirror_mode": {
    "name": "ipython",
    "version": 2
   },
   "file_extension": ".py",
   "mimetype": "text/x-python",
   "name": "python",
   "nbconvert_exporter": "python",
   "pygments_lexer": "ipython2",
   "version": "2.7.6"
  }
 },
 "nbformat": 4,
 "nbformat_minor": 0
}