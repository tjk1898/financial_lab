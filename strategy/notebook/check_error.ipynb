{
 "cells": [
  {
   "cell_type": "code",
   "execution_count": 1,
   "metadata": {
    "collapsed": true,
    "pycharm": {
     "name": "#%%\n"
    }
   },
   "outputs": [],
   "source": [
    "import pandas as pd\n",
    "import os"
   ]
  },
  {
   "cell_type": "code",
   "execution_count": 4,
   "outputs": [],
   "source": [
    "test_files = '/Users/jinkun.tian/gitee/financial_lab/strategy/data/tmp/'\n",
    "topbluechipes_files = '/Users/jinkun.tian/gitee/financial_lab/strategy/data/topbluechipes/'\n"
   ],
   "metadata": {
    "collapsed": false,
    "pycharm": {
     "name": "#%%\n"
    }
   }
  },
  {
   "cell_type": "code",
   "execution_count": 5,
   "outputs": [],
   "source": [
    "file_name = '002142.SZ.csv'\n",
    "\n",
    "df = pd.read_csv(os.path.join(topbluechipes_files,file_name))\n",
    "df.rename(columns={'Unnamed: 0': 'date'}, inplace=True)"
   ],
   "metadata": {
    "collapsed": false,
    "pycharm": {
     "name": "#%%\n"
    }
   }
  },
  {
   "cell_type": "code",
   "execution_count": 7,
   "outputs": [
    {
     "data": {
      "text/plain": "Empty DataFrame\nColumns: [date, amp_rate, avg_price, close, factor, high, high_limit, is_paused, is_st, low, low_limit, open, prev_close, quote_rate, turnover, turnover_rate, volume]\nIndex: []",
      "text/html": "<div>\n<style scoped>\n    .dataframe tbody tr th:only-of-type {\n        vertical-align: middle;\n    }\n\n    .dataframe tbody tr th {\n        vertical-align: top;\n    }\n\n    .dataframe thead th {\n        text-align: right;\n    }\n</style>\n<table border=\"1\" class=\"dataframe\">\n  <thead>\n    <tr style=\"text-align: right;\">\n      <th></th>\n      <th>date</th>\n      <th>amp_rate</th>\n      <th>avg_price</th>\n      <th>close</th>\n      <th>factor</th>\n      <th>high</th>\n      <th>high_limit</th>\n      <th>is_paused</th>\n      <th>is_st</th>\n      <th>low</th>\n      <th>low_limit</th>\n      <th>open</th>\n      <th>prev_close</th>\n      <th>quote_rate</th>\n      <th>turnover</th>\n      <th>turnover_rate</th>\n      <th>volume</th>\n    </tr>\n  </thead>\n  <tbody>\n  </tbody>\n</table>\n</div>"
     },
     "execution_count": 7,
     "metadata": {},
     "output_type": "execute_result"
    }
   ],
   "source": [
    "df[df['date']=='2021-12-02']"
   ],
   "metadata": {
    "collapsed": false,
    "pycharm": {
     "name": "#%%\n"
    }
   }
  },
  {
   "cell_type": "code",
   "execution_count": 8,
   "outputs": [
    {
     "data": {
      "text/plain": "           date  amp_rate  avg_price  close  factor   high  high_limit  \\\n0    2022-01-24   19.2595    27.1775  24.79     1.0  30.95       46.28   \n1    2022-01-25    9.9637    23.3179  23.70     1.0  24.78       27.27   \n2    2022-01-26   12.3629    25.3432  26.07     1.0  26.07       26.07   \n3    2022-01-27   12.1979    28.0002  27.70     1.0  28.68       28.68   \n4    2022-01-28   11.4440    25.9754  25.67     1.0  28.10       30.47   \n..          ...       ...        ...    ...     ...    ...         ...   \n108  2022-07-08    2.4347    22.3132  22.23     1.0  22.65       24.85   \n109  2022-07-11    2.9690    22.4760  22.36     1.0  22.79       24.45   \n110  2022-07-12    4.0250    22.3558  22.15     1.0  22.85       24.60   \n111  2022-07-13    6.1851    22.4859  22.88     1.0  22.97       24.37   \n112  2022-07-14    0.0000    22.3600  22.36     1.0  22.36       25.17   \n\n     is_paused  is_st    low  low_limit   open  prev_close  quote_rate  \\\n0          0.0    0.0  24.76      20.57  30.95       32.14  -22.868700   \n1          0.0    0.0  22.31      22.31  23.17       24.79   -4.396900   \n2          0.0    0.0  23.14      21.33  23.80       23.70   10.000000   \n3          0.0    0.0  25.50      23.46  25.85       26.07    6.252400   \n4          0.0    0.0  24.93      24.93  25.22       27.70   -7.328500   \n..         ...    ...    ...        ...    ...         ...         ...   \n108        0.0    0.0  22.10      20.33  22.59       22.59   -1.593600   \n109        0.0    0.0  22.13      20.01  22.25       22.23    0.584800   \n110        0.0    0.0  21.95      20.12  22.37       22.36   -0.939200   \n111        0.0    0.0  21.60      19.94  22.00       22.15    3.295700   \n112        0.0    0.0  22.36      20.59  22.70       22.88   -2.272727   \n\n         turnover  turnover_rate      volume  \n0    4.164018e+08        11.4909  15321537.0  \n1    4.089587e+08        13.1535  17538367.0  \n2    3.289485e+08         9.7346  12979774.0  \n3    7.886357e+08        21.1236  28165360.0  \n4    5.242192e+08        15.1357  20181374.0  \n..            ...            ...         ...  \n108  1.441068e+08         4.8437   6458360.0  \n109  1.936428e+08         6.4615   8615536.0  \n110  1.804367e+08         6.0532   8071117.0  \n111  2.341583e+08         7.8100  10413565.0  \n112  3.141580e+06         0.0015    140500.0  \n\n[113 rows x 17 columns]",
      "text/html": "<div>\n<style scoped>\n    .dataframe tbody tr th:only-of-type {\n        vertical-align: middle;\n    }\n\n    .dataframe tbody tr th {\n        vertical-align: top;\n    }\n\n    .dataframe thead th {\n        text-align: right;\n    }\n</style>\n<table border=\"1\" class=\"dataframe\">\n  <thead>\n    <tr style=\"text-align: right;\">\n      <th></th>\n      <th>date</th>\n      <th>amp_rate</th>\n      <th>avg_price</th>\n      <th>close</th>\n      <th>factor</th>\n      <th>high</th>\n      <th>high_limit</th>\n      <th>is_paused</th>\n      <th>is_st</th>\n      <th>low</th>\n      <th>low_limit</th>\n      <th>open</th>\n      <th>prev_close</th>\n      <th>quote_rate</th>\n      <th>turnover</th>\n      <th>turnover_rate</th>\n      <th>volume</th>\n    </tr>\n  </thead>\n  <tbody>\n    <tr>\n      <th>0</th>\n      <td>2022-01-24</td>\n      <td>19.2595</td>\n      <td>27.1775</td>\n      <td>24.79</td>\n      <td>1.0</td>\n      <td>30.95</td>\n      <td>46.28</td>\n      <td>0.0</td>\n      <td>0.0</td>\n      <td>24.76</td>\n      <td>20.57</td>\n      <td>30.95</td>\n      <td>32.14</td>\n      <td>-22.868700</td>\n      <td>4.164018e+08</td>\n      <td>11.4909</td>\n      <td>15321537.0</td>\n    </tr>\n    <tr>\n      <th>1</th>\n      <td>2022-01-25</td>\n      <td>9.9637</td>\n      <td>23.3179</td>\n      <td>23.70</td>\n      <td>1.0</td>\n      <td>24.78</td>\n      <td>27.27</td>\n      <td>0.0</td>\n      <td>0.0</td>\n      <td>22.31</td>\n      <td>22.31</td>\n      <td>23.17</td>\n      <td>24.79</td>\n      <td>-4.396900</td>\n      <td>4.089587e+08</td>\n      <td>13.1535</td>\n      <td>17538367.0</td>\n    </tr>\n    <tr>\n      <th>2</th>\n      <td>2022-01-26</td>\n      <td>12.3629</td>\n      <td>25.3432</td>\n      <td>26.07</td>\n      <td>1.0</td>\n      <td>26.07</td>\n      <td>26.07</td>\n      <td>0.0</td>\n      <td>0.0</td>\n      <td>23.14</td>\n      <td>21.33</td>\n      <td>23.80</td>\n      <td>23.70</td>\n      <td>10.000000</td>\n      <td>3.289485e+08</td>\n      <td>9.7346</td>\n      <td>12979774.0</td>\n    </tr>\n    <tr>\n      <th>3</th>\n      <td>2022-01-27</td>\n      <td>12.1979</td>\n      <td>28.0002</td>\n      <td>27.70</td>\n      <td>1.0</td>\n      <td>28.68</td>\n      <td>28.68</td>\n      <td>0.0</td>\n      <td>0.0</td>\n      <td>25.50</td>\n      <td>23.46</td>\n      <td>25.85</td>\n      <td>26.07</td>\n      <td>6.252400</td>\n      <td>7.886357e+08</td>\n      <td>21.1236</td>\n      <td>28165360.0</td>\n    </tr>\n    <tr>\n      <th>4</th>\n      <td>2022-01-28</td>\n      <td>11.4440</td>\n      <td>25.9754</td>\n      <td>25.67</td>\n      <td>1.0</td>\n      <td>28.10</td>\n      <td>30.47</td>\n      <td>0.0</td>\n      <td>0.0</td>\n      <td>24.93</td>\n      <td>24.93</td>\n      <td>25.22</td>\n      <td>27.70</td>\n      <td>-7.328500</td>\n      <td>5.242192e+08</td>\n      <td>15.1357</td>\n      <td>20181374.0</td>\n    </tr>\n    <tr>\n      <th>...</th>\n      <td>...</td>\n      <td>...</td>\n      <td>...</td>\n      <td>...</td>\n      <td>...</td>\n      <td>...</td>\n      <td>...</td>\n      <td>...</td>\n      <td>...</td>\n      <td>...</td>\n      <td>...</td>\n      <td>...</td>\n      <td>...</td>\n      <td>...</td>\n      <td>...</td>\n      <td>...</td>\n      <td>...</td>\n    </tr>\n    <tr>\n      <th>108</th>\n      <td>2022-07-08</td>\n      <td>2.4347</td>\n      <td>22.3132</td>\n      <td>22.23</td>\n      <td>1.0</td>\n      <td>22.65</td>\n      <td>24.85</td>\n      <td>0.0</td>\n      <td>0.0</td>\n      <td>22.10</td>\n      <td>20.33</td>\n      <td>22.59</td>\n      <td>22.59</td>\n      <td>-1.593600</td>\n      <td>1.441068e+08</td>\n      <td>4.8437</td>\n      <td>6458360.0</td>\n    </tr>\n    <tr>\n      <th>109</th>\n      <td>2022-07-11</td>\n      <td>2.9690</td>\n      <td>22.4760</td>\n      <td>22.36</td>\n      <td>1.0</td>\n      <td>22.79</td>\n      <td>24.45</td>\n      <td>0.0</td>\n      <td>0.0</td>\n      <td>22.13</td>\n      <td>20.01</td>\n      <td>22.25</td>\n      <td>22.23</td>\n      <td>0.584800</td>\n      <td>1.936428e+08</td>\n      <td>6.4615</td>\n      <td>8615536.0</td>\n    </tr>\n    <tr>\n      <th>110</th>\n      <td>2022-07-12</td>\n      <td>4.0250</td>\n      <td>22.3558</td>\n      <td>22.15</td>\n      <td>1.0</td>\n      <td>22.85</td>\n      <td>24.60</td>\n      <td>0.0</td>\n      <td>0.0</td>\n      <td>21.95</td>\n      <td>20.12</td>\n      <td>22.37</td>\n      <td>22.36</td>\n      <td>-0.939200</td>\n      <td>1.804367e+08</td>\n      <td>6.0532</td>\n      <td>8071117.0</td>\n    </tr>\n    <tr>\n      <th>111</th>\n      <td>2022-07-13</td>\n      <td>6.1851</td>\n      <td>22.4859</td>\n      <td>22.88</td>\n      <td>1.0</td>\n      <td>22.97</td>\n      <td>24.37</td>\n      <td>0.0</td>\n      <td>0.0</td>\n      <td>21.60</td>\n      <td>19.94</td>\n      <td>22.00</td>\n      <td>22.15</td>\n      <td>3.295700</td>\n      <td>2.341583e+08</td>\n      <td>7.8100</td>\n      <td>10413565.0</td>\n    </tr>\n    <tr>\n      <th>112</th>\n      <td>2022-07-14</td>\n      <td>0.0000</td>\n      <td>22.3600</td>\n      <td>22.36</td>\n      <td>1.0</td>\n      <td>22.36</td>\n      <td>25.17</td>\n      <td>0.0</td>\n      <td>0.0</td>\n      <td>22.36</td>\n      <td>20.59</td>\n      <td>22.70</td>\n      <td>22.88</td>\n      <td>-2.272727</td>\n      <td>3.141580e+06</td>\n      <td>0.0015</td>\n      <td>140500.0</td>\n    </tr>\n  </tbody>\n</table>\n<p>113 rows × 17 columns</p>\n</div>"
     },
     "execution_count": 8,
     "metadata": {},
     "output_type": "execute_result"
    }
   ],
   "source": [
    "df[df['date']>'2021-11-01']"
   ],
   "metadata": {
    "collapsed": false,
    "pycharm": {
     "name": "#%%\n"
    }
   }
  },
  {
   "cell_type": "code",
   "execution_count": 9,
   "outputs": [
    {
     "data": {
      "text/plain": "           date  amp_rate  avg_price  close  factor   high  high_limit  \\\n0    2022-01-24   19.2595    27.1775  24.79     1.0  30.95       46.28   \n1    2022-01-25    9.9637    23.3179  23.70     1.0  24.78       27.27   \n2    2022-01-26   12.3629    25.3432  26.07     1.0  26.07       26.07   \n3    2022-01-27   12.1979    28.0002  27.70     1.0  28.68       28.68   \n4    2022-01-28   11.4440    25.9754  25.67     1.0  28.10       30.47   \n..          ...       ...        ...    ...     ...    ...         ...   \n108  2022-07-08    2.4347    22.3132  22.23     1.0  22.65       24.85   \n109  2022-07-11    2.9690    22.4760  22.36     1.0  22.79       24.45   \n110  2022-07-12    4.0250    22.3558  22.15     1.0  22.85       24.60   \n111  2022-07-13    6.1851    22.4859  22.88     1.0  22.97       24.37   \n112  2022-07-14    0.0000    22.3600  22.36     1.0  22.36       25.17   \n\n     is_paused  is_st    low  low_limit   open  prev_close  quote_rate  \\\n0          0.0    0.0  24.76      20.57  30.95       32.14  -22.868700   \n1          0.0    0.0  22.31      22.31  23.17       24.79   -4.396900   \n2          0.0    0.0  23.14      21.33  23.80       23.70   10.000000   \n3          0.0    0.0  25.50      23.46  25.85       26.07    6.252400   \n4          0.0    0.0  24.93      24.93  25.22       27.70   -7.328500   \n..         ...    ...    ...        ...    ...         ...         ...   \n108        0.0    0.0  22.10      20.33  22.59       22.59   -1.593600   \n109        0.0    0.0  22.13      20.01  22.25       22.23    0.584800   \n110        0.0    0.0  21.95      20.12  22.37       22.36   -0.939200   \n111        0.0    0.0  21.60      19.94  22.00       22.15    3.295700   \n112        0.0    0.0  22.36      20.59  22.70       22.88   -2.272727   \n\n         turnover  turnover_rate      volume  \n0    4.164018e+08        11.4909  15321537.0  \n1    4.089587e+08        13.1535  17538367.0  \n2    3.289485e+08         9.7346  12979774.0  \n3    7.886357e+08        21.1236  28165360.0  \n4    5.242192e+08        15.1357  20181374.0  \n..            ...            ...         ...  \n108  1.441068e+08         4.8437   6458360.0  \n109  1.936428e+08         6.4615   8615536.0  \n110  1.804367e+08         6.0532   8071117.0  \n111  2.341583e+08         7.8100  10413565.0  \n112  3.141580e+06         0.0015    140500.0  \n\n[113 rows x 17 columns]",
      "text/html": "<div>\n<style scoped>\n    .dataframe tbody tr th:only-of-type {\n        vertical-align: middle;\n    }\n\n    .dataframe tbody tr th {\n        vertical-align: top;\n    }\n\n    .dataframe thead th {\n        text-align: right;\n    }\n</style>\n<table border=\"1\" class=\"dataframe\">\n  <thead>\n    <tr style=\"text-align: right;\">\n      <th></th>\n      <th>date</th>\n      <th>amp_rate</th>\n      <th>avg_price</th>\n      <th>close</th>\n      <th>factor</th>\n      <th>high</th>\n      <th>high_limit</th>\n      <th>is_paused</th>\n      <th>is_st</th>\n      <th>low</th>\n      <th>low_limit</th>\n      <th>open</th>\n      <th>prev_close</th>\n      <th>quote_rate</th>\n      <th>turnover</th>\n      <th>turnover_rate</th>\n      <th>volume</th>\n    </tr>\n  </thead>\n  <tbody>\n    <tr>\n      <th>0</th>\n      <td>2022-01-24</td>\n      <td>19.2595</td>\n      <td>27.1775</td>\n      <td>24.79</td>\n      <td>1.0</td>\n      <td>30.95</td>\n      <td>46.28</td>\n      <td>0.0</td>\n      <td>0.0</td>\n      <td>24.76</td>\n      <td>20.57</td>\n      <td>30.95</td>\n      <td>32.14</td>\n      <td>-22.868700</td>\n      <td>4.164018e+08</td>\n      <td>11.4909</td>\n      <td>15321537.0</td>\n    </tr>\n    <tr>\n      <th>1</th>\n      <td>2022-01-25</td>\n      <td>9.9637</td>\n      <td>23.3179</td>\n      <td>23.70</td>\n      <td>1.0</td>\n      <td>24.78</td>\n      <td>27.27</td>\n      <td>0.0</td>\n      <td>0.0</td>\n      <td>22.31</td>\n      <td>22.31</td>\n      <td>23.17</td>\n      <td>24.79</td>\n      <td>-4.396900</td>\n      <td>4.089587e+08</td>\n      <td>13.1535</td>\n      <td>17538367.0</td>\n    </tr>\n    <tr>\n      <th>2</th>\n      <td>2022-01-26</td>\n      <td>12.3629</td>\n      <td>25.3432</td>\n      <td>26.07</td>\n      <td>1.0</td>\n      <td>26.07</td>\n      <td>26.07</td>\n      <td>0.0</td>\n      <td>0.0</td>\n      <td>23.14</td>\n      <td>21.33</td>\n      <td>23.80</td>\n      <td>23.70</td>\n      <td>10.000000</td>\n      <td>3.289485e+08</td>\n      <td>9.7346</td>\n      <td>12979774.0</td>\n    </tr>\n    <tr>\n      <th>3</th>\n      <td>2022-01-27</td>\n      <td>12.1979</td>\n      <td>28.0002</td>\n      <td>27.70</td>\n      <td>1.0</td>\n      <td>28.68</td>\n      <td>28.68</td>\n      <td>0.0</td>\n      <td>0.0</td>\n      <td>25.50</td>\n      <td>23.46</td>\n      <td>25.85</td>\n      <td>26.07</td>\n      <td>6.252400</td>\n      <td>7.886357e+08</td>\n      <td>21.1236</td>\n      <td>28165360.0</td>\n    </tr>\n    <tr>\n      <th>4</th>\n      <td>2022-01-28</td>\n      <td>11.4440</td>\n      <td>25.9754</td>\n      <td>25.67</td>\n      <td>1.0</td>\n      <td>28.10</td>\n      <td>30.47</td>\n      <td>0.0</td>\n      <td>0.0</td>\n      <td>24.93</td>\n      <td>24.93</td>\n      <td>25.22</td>\n      <td>27.70</td>\n      <td>-7.328500</td>\n      <td>5.242192e+08</td>\n      <td>15.1357</td>\n      <td>20181374.0</td>\n    </tr>\n    <tr>\n      <th>...</th>\n      <td>...</td>\n      <td>...</td>\n      <td>...</td>\n      <td>...</td>\n      <td>...</td>\n      <td>...</td>\n      <td>...</td>\n      <td>...</td>\n      <td>...</td>\n      <td>...</td>\n      <td>...</td>\n      <td>...</td>\n      <td>...</td>\n      <td>...</td>\n      <td>...</td>\n      <td>...</td>\n      <td>...</td>\n    </tr>\n    <tr>\n      <th>108</th>\n      <td>2022-07-08</td>\n      <td>2.4347</td>\n      <td>22.3132</td>\n      <td>22.23</td>\n      <td>1.0</td>\n      <td>22.65</td>\n      <td>24.85</td>\n      <td>0.0</td>\n      <td>0.0</td>\n      <td>22.10</td>\n      <td>20.33</td>\n      <td>22.59</td>\n      <td>22.59</td>\n      <td>-1.593600</td>\n      <td>1.441068e+08</td>\n      <td>4.8437</td>\n      <td>6458360.0</td>\n    </tr>\n    <tr>\n      <th>109</th>\n      <td>2022-07-11</td>\n      <td>2.9690</td>\n      <td>22.4760</td>\n      <td>22.36</td>\n      <td>1.0</td>\n      <td>22.79</td>\n      <td>24.45</td>\n      <td>0.0</td>\n      <td>0.0</td>\n      <td>22.13</td>\n      <td>20.01</td>\n      <td>22.25</td>\n      <td>22.23</td>\n      <td>0.584800</td>\n      <td>1.936428e+08</td>\n      <td>6.4615</td>\n      <td>8615536.0</td>\n    </tr>\n    <tr>\n      <th>110</th>\n      <td>2022-07-12</td>\n      <td>4.0250</td>\n      <td>22.3558</td>\n      <td>22.15</td>\n      <td>1.0</td>\n      <td>22.85</td>\n      <td>24.60</td>\n      <td>0.0</td>\n      <td>0.0</td>\n      <td>21.95</td>\n      <td>20.12</td>\n      <td>22.37</td>\n      <td>22.36</td>\n      <td>-0.939200</td>\n      <td>1.804367e+08</td>\n      <td>6.0532</td>\n      <td>8071117.0</td>\n    </tr>\n    <tr>\n      <th>111</th>\n      <td>2022-07-13</td>\n      <td>6.1851</td>\n      <td>22.4859</td>\n      <td>22.88</td>\n      <td>1.0</td>\n      <td>22.97</td>\n      <td>24.37</td>\n      <td>0.0</td>\n      <td>0.0</td>\n      <td>21.60</td>\n      <td>19.94</td>\n      <td>22.00</td>\n      <td>22.15</td>\n      <td>3.295700</td>\n      <td>2.341583e+08</td>\n      <td>7.8100</td>\n      <td>10413565.0</td>\n    </tr>\n    <tr>\n      <th>112</th>\n      <td>2022-07-14</td>\n      <td>0.0000</td>\n      <td>22.3600</td>\n      <td>22.36</td>\n      <td>1.0</td>\n      <td>22.36</td>\n      <td>25.17</td>\n      <td>0.0</td>\n      <td>0.0</td>\n      <td>22.36</td>\n      <td>20.59</td>\n      <td>22.70</td>\n      <td>22.88</td>\n      <td>-2.272727</td>\n      <td>3.141580e+06</td>\n      <td>0.0015</td>\n      <td>140500.0</td>\n    </tr>\n  </tbody>\n</table>\n<p>113 rows × 17 columns</p>\n</div>"
     },
     "execution_count": 9,
     "metadata": {},
     "output_type": "execute_result"
    }
   ],
   "source": [
    "df"
   ],
   "metadata": {
    "collapsed": false,
    "pycharm": {
     "name": "#%%\n"
    }
   }
  }
 ],
 "metadata": {
  "kernelspec": {
   "display_name": "Python 3",
   "language": "python",
   "name": "python3"
  },
  "language_info": {
   "codemirror_mode": {
    "name": "ipython",
    "version": 2
   },
   "file_extension": ".py",
   "mimetype": "text/x-python",
   "name": "python",
   "nbconvert_exporter": "python",
   "pygments_lexer": "ipython2",
   "version": "2.7.6"
  }
 },
 "nbformat": 4,
 "nbformat_minor": 0
}