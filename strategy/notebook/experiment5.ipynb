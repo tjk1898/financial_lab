{
 "cells": [
  {
   "cell_type": "code",
   "execution_count": null,
   "metadata": {
    "pycharm": {
     "name": "#%%\n"
    },
    "scrolled": true
   },
   "outputs": [],
   "source": [
    "import os.path\n",
    "%load_ext autoreload\n",
    "%autoreload 2"
   ]
  },
  {
   "cell_type": "code",
   "execution_count": null,
   "metadata": {},
   "outputs": [],
   "source": [
    "from util.util import *\n",
    "from util.drawer import *\n",
    "from strategy.Bolling import *\n",
    "from strategy.Runner import Runner\n",
    "from strategy.Strategy import Strategy\n",
    "import shelve"
   ]
  },
  {
   "cell_type": "code",
   "execution_count": null,
   "metadata": {
    "pycharm": {
     "name": "#%%\n"
    }
   },
   "outputs": [],
   "source": [
    "day_path = '/Users/jinkun.tian/gitee/financial_lab/strategy/data/price/day/'\n",
    "min_path = '/Users/jinkun.tian/gitee/financial_lab/strategy/data/price/minute/'\n",
    "file_name = '601088.csv'\n",
    "\n",
    "price = pd.read_csv(day_path + file_name)\n",
    "price.rename(columns={'Unnamed: 0':'date'},inplace=True)"
   ]
  },
  {
   "cell_type": "code",
   "execution_count": null,
   "metadata": {
    "pycharm": {
     "name": "#%%\n"
    }
   },
   "outputs": [],
   "source": [
    "df = price.copy()\n",
    "Strategy.init()\n",
    "# 初始化策略\n",
    "bollingV5 = BollingV5()\n",
    "\n",
    "# 调用running\n",
    "runner = Runner()\n",
    "runner.df = df\n",
    "runner.strategys.append(bollingV5)\n",
    "runner.start_index = 2\n",
    "\n",
    "runner.running()\n",
    "\n",
    "trades = Strategy.global_context['trades']"
   ]
  },
  {
   "cell_type": "code",
   "execution_count": null,
   "metadata": {
    "pycharm": {
     "name": "#%%\n"
    }
   },
   "outputs": [],
   "source": [
    "e_name = 'e_5'\n",
    "output_trades(trades,e_name)"
   ]
  },
  {
   "cell_type": "code",
   "execution_count": null,
   "metadata": {},
   "outputs": [],
   "source": [
    "k_graph = draw_K(df,trades=trades)\n",
    "k_graph.render_notebook()"
   ]
  },
  {
   "cell_type": "code",
   "execution_count": null,
   "metadata": {
    "pycharm": {
     "name": "#%%\n"
    }
   },
   "outputs": [],
   "source": [
    "trades_df = Strategy.get_trades_df(df,trades)\n",
    "line= get_line(trades_df,'own_money','e_name',show_symbol=True,show_label=True)\n",
    "line.set_global_opts(datazoom_opts=opts.DataZoomOpts(range_start=10, range_end=80))\n",
    "line.render_notebook()\n"
   ]
  },
  {
   "cell_type": "code",
   "execution_count": null,
   "metadata": {},
   "outputs": [],
   "source": [
    "trades\n",
    "\n"
   ]
  },
  {
   "cell_type": "code",
   "execution_count": null,
   "metadata": {},
   "outputs": [],
   "source": [
    "trades_df = pd.DataFrame(trades)"
   ]
  },
  {
   "cell_type": "code",
   "execution_count": null,
   "metadata": {},
   "outputs": [],
   "source": [
    "line_data = pd.merge(df,trades_df[['sell_day','own_money']],how='left',left_on='date',right_on='sell_day')[['date','own_money']]"
   ]
  },
  {
   "cell_type": "code",
   "execution_count": null,
   "metadata": {},
   "outputs": [],
   "source": [
    "line_current = get_line(line_data, 'own_money', show_symbol=True, show_label=True,is_smooth=False)\n",
    "line_current.set_global_opts(datazoom_opts=opts.DataZoomOpts(range_start=10, range_end=80))"
   ]
  },
  {
   "cell_type": "code",
   "execution_count": null,
   "metadata": {},
   "outputs": [],
   "source": [
    "line_current.render_notebook()"
   ]
  },
  {
   "cell_type": "code",
   "execution_count": null,
   "metadata": {},
   "outputs": [],
   "source": [
    "e_names=['e_5','e_6']\n",
    "line = get_trades_line(df,e_names)\n",
    "line.render_notebook()"
   ]
  }
 ],
 "metadata": {
  "kernelspec": {
   "display_name": "Python 3 (ipykernel)",
   "language": "python",
   "name": "python3"
  },
  "language_info": {
   "codemirror_mode": {
    "name": "ipython",
    "version": 3
   },
   "file_extension": ".py",
   "mimetype": "text/x-python",
   "name": "python",
   "nbconvert_exporter": "python",
   "pygments_lexer": "ipython3",
   "version": "3.8.0"
  }
 },
 "nbformat": 4,
 "nbformat_minor": 1
}
