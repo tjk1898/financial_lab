{
 "cells": [
  {
   "cell_type": "code",
   "execution_count": null,
   "metadata": {
    "pycharm": {
     "name": "#%%\n"
    },
    "scrolled": true
   },
   "outputs": [],
   "source": [
    "%load_ext autoreload\n",
    "%autoreload 2"
   ]
  },
  {
   "cell_type": "code",
   "execution_count": null,
   "metadata": {},
   "outputs": [],
   "source": [
    "from util.util import *\n",
    "from util.drawer import *\n",
    "from strategy.Bolling import *\n",
    "from strategy.Runner import Runner\n",
    "from strategy.Strategy import Strategy"
   ]
  },
  {
   "cell_type": "code",
   "execution_count": null,
   "metadata": {
    "pycharm": {
     "name": "#%%\n"
    }
   },
   "outputs": [],
   "source": [
    "day_path = '/Users/jinkun.tian/gitee/financial_lab/strategy/data/price/day/'\n",
    "min_path = '/Users/jinkun.tian/gitee/financial_lab/strategy/data/price/minute/'\n",
    "file_name = '601088.csv'\n",
    "\n",
    "price = pd.read_csv(day_path + file_name)\n",
    "price.rename(columns={'Unnamed: 0':'date'},inplace=True)"
   ]
  },
  {
   "cell_type": "code",
   "execution_count": null,
   "metadata": {
    "pycharm": {
     "name": "#%%\n"
    }
   },
   "outputs": [],
   "source": [
    "df = price.copy()\n",
    "Strategy.init()\n",
    "# 初始化策略\n",
    "bollingV4 = BollingV4()\n",
    "\n",
    "# 调用running\n",
    "runner = Runner()\n",
    "runner.df = df\n",
    "runner.strategys.append(bollingV4)\n",
    "runner.start_index = 2\n",
    "\n",
    "runner.running()\n",
    "\n",
    "trades = Strategy.global_context['trades']"
   ]
  },
  {
   "cell_type": "code",
   "execution_count": null,
   "metadata": {
    "pycharm": {
     "name": "#%%\n"
    }
   },
   "outputs": [],
   "source": [
    "trades"
   ]
  },
  {
   "cell_type": "code",
   "execution_count": null,
   "metadata": {},
   "outputs": [],
   "source": [
    "k_graph = draw_K(df,trades=trades)\n",
    "k_graph.render_notebook()"
   ]
  },
  {
   "cell_type": "code",
   "execution_count": null,
   "metadata": {
    "pycharm": {
     "name": "#%%\n"
    }
   },
   "outputs": [],
   "source": [
    "trades_df = Strategy.get_trades_df(df,trades)\n",
    "line_3= get_line(trades_df,'own_money','算方法3',show_symbol=True,show_label=True)\n",
    "line_3.set_global_opts(datazoom_opts=opts.DataZoomOpts(range_start=10, range_end=80))\n",
    "line_3.render_notebook()\n"
   ]
  },
  {
   "cell_type": "code",
   "execution_count": null,
   "metadata": {},
   "outputs": [],
   "source": []
  }
 ],
 "metadata": {
  "kernelspec": {
   "display_name": "Python 3 (ipykernel)",
   "language": "python",
   "name": "python3"
  },
  "language_info": {
   "codemirror_mode": {
    "name": "ipython",
    "version": 3
   },
   "file_extension": ".py",
   "mimetype": "text/x-python",
   "name": "python",
   "nbconvert_exporter": "python",
   "pygments_lexer": "ipython3",
   "version": "3.8.0"
  }
 },
 "nbformat": 4,
 "nbformat_minor": 1
}
