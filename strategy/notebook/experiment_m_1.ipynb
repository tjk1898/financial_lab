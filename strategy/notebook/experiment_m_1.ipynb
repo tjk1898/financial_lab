{
 "cells": [
  {
   "cell_type": "code",
   "execution_count": null,
   "metadata": {
    "pycharm": {
     "name": "#%%\n"
    }
   },
   "outputs": [],
   "source": [
    "%load_ext autoreload\n",
    "%autoreload 2"
   ]
  },
  {
   "cell_type": "code",
   "execution_count": null,
   "metadata": {
    "pycharm": {
     "name": "#%%\n"
    }
   },
   "outputs": [],
   "source": [
    "from util.util import *\n",
    "from util.drawer import *\n",
    "from strategy.Bolling_minute import *\n",
    "from strategy.Runner import Runner\n",
    "from strategy.Strategy import Strategy\n",
    "\n",
    "from pyecharts import options as opts"
   ]
  },
  {
   "cell_type": "code",
   "execution_count": null,
   "metadata": {
    "pycharm": {
     "name": "#%%\n"
    }
   },
   "outputs": [],
   "source": [
    "day_path = '/Users/jinkun.tian/gitee/financial_lab/strategy/data/price/day/'\n",
    "min_path = '/Users/jinkun.tian/gitee/financial_lab/strategy/data/price/minute/'\n",
    "file_name = '601088.csv'\n",
    "\n",
    "df_d = pd.read_csv(day_path + file_name)\n",
    "df_d.rename(columns={'Unnamed: 0':'date'},inplace=True)\n",
    "df_m = pd.read_csv(min_path + file_name)\n",
    "df_m.rename(columns={'Unnamed: 0':'time'},inplace=True)"
   ]
  },
  {
   "cell_type": "code",
   "execution_count": null,
   "metadata": {
    "pycharm": {
     "name": "#%%\n"
    }
   },
   "outputs": [],
   "source": [
    "# 初始化策略\n",
    "Strategy.init()\n",
    "bollingV3 = BollingV3()\n",
    "\n",
    "# 调用running\n",
    "runner = Runner(1)\n",
    "runner.df = df_d\n",
    "runner.df_m = df_m\n",
    "\n",
    "runner.strategys.append(bollingV3)\n",
    "\n",
    "runner.running_m()\n",
    "\n",
    "trades = Strategy.global_context['trades']"
   ]
  },
  {
   "cell_type": "code",
   "execution_count": null,
   "metadata": {
    "pycharm": {
     "name": "#%%\n"
    }
   },
   "outputs": [],
   "source": [
    "trades"
   ]
  },
  {
   "cell_type": "code",
   "execution_count": null,
   "metadata": {
    "pycharm": {
     "name": "#%%\n"
    }
   },
   "outputs": [],
   "source": [
    "k_graph = draw_K(df_d,trades=trades)\n",
    "k_graph.render_notebook()"
   ]
  },
  {
   "cell_type": "code",
   "execution_count": null,
   "metadata": {
    "pycharm": {
     "name": "#%%\n"
    }
   },
   "outputs": [],
   "source": [
    "def get_trades_df(df,trades):\n",
    "    trades_df = pd.DataFrame(trades)\n",
    "    trade_data = pd.merge(df['date'],trades_df[['sell_day','profit','own_money']],how='left',left_on='date',right_on='sell_day',left_index=False, right_index=False, )\n",
    "    \n",
    "    last_profit = None\n",
    "    last_own_money = Strategy.global_context['start_money']\n",
    "    for i in trade_data.index:\n",
    "        if pd.isna(trade_data.loc[i,'profit']):\n",
    "            trade_data.loc[i,'profit'] = last_profit\n",
    "        else:\n",
    "            last_profit = trade_data.loc[i,'profit']\n",
    "\n",
    "        if pd.isna(trade_data.loc[i,'own_money']):\n",
    "            trade_data.loc[i,'own_money'] = last_own_money\n",
    "        else:\n",
    "            last_own_money = trade_data.loc[i,'own_money']\n",
    "    return trade_data"
   ]
  },
  {
   "cell_type": "code",
   "execution_count": null,
   "metadata": {
    "pycharm": {
     "name": "#%%\n"
    }
   },
   "outputs": [],
   "source": []
  },
  {
   "cell_type": "code",
   "execution_count": null,
   "metadata": {
    "pycharm": {
     "name": "#%%\n"
    }
   },
   "outputs": [],
   "source": [
    "trade_1_df = get_trades_df(df_d,trades)"
   ]
  },
  {
   "cell_type": "code",
   "execution_count": null,
   "metadata": {
    "pycharm": {
     "name": "#%%\n"
    }
   },
   "outputs": [],
   "source": [
    "line_1= get_line(trade_1_df,'own_money','算方法1')\n",
    "line_1.render_notebook()"
   ]
  },
  {
   "cell_type": "code",
   "execution_count": null,
   "metadata": {
    "pycharm": {
     "name": "#%%\n"
    }
   },
   "outputs": [],
   "source": [
    "trade_0_df = get_trades_df(df_d,trades_0)\n",
    "line_0= get_line(trade_0_df,'own_money','算方法0')\n",
    "line_1.overlap(line_0)\n",
    "line_1.render_notebook()\n"
   ]
  },
  {
   "cell_type": "code",
   "execution_count": null,
   "metadata": {
    "pycharm": {
     "name": "#%%\n"
    }
   },
   "outputs": [],
   "source": [
    "line_1.set_global_opts(datazoom_opts=[  # 缩放选项\n",
    "        opts.DataZoomOpts(\n",
    "            is_show=False,\n",
    "            type_=\"inside\",\n",
    "            xaxis_index=[0, 1],\n",
    "            # 初始的框选范围\n",
    "            range_start=80,\n",
    "            range_end=100,\n",
    "        ),\n",
    "        opts.DataZoomOpts(\n",
    "            is_show=True,\n",
    "            xaxis_index=[0, 1],\n",
    "            type_=\"slider\",\n",
    "            pos_top=\"95%\",\n",
    "            range_start=80,\n",
    "            range_end=100,\n",
    "        )\n",
    "    ])\n",
    "line_1.render_notebook()\n"
   ]
  },
  {
   "cell_type": "code",
   "execution_count": null,
   "metadata": {
    "pycharm": {
     "name": "#%%\n"
    }
   },
   "outputs": [],
   "source": [
    "trades_df = pd.DataFrame(trades)\n",
    "trade_data = pd.merge(df_d['date'],trades_df[['sell_day','profit','own_money']],how='left',left_on='date',right_on='sell_day',left_index=False, right_index=False, )\n"
   ]
  }
 ],
 "metadata": {
  "kernelspec": {
   "display_name": "Python 3 (ipykernel)",
   "language": "python",
   "name": "python3"
  },
  "language_info": {
   "codemirror_mode": {
    "name": "ipython",
    "version": 3
   },
   "file_extension": ".py",
   "mimetype": "text/x-python",
   "name": "python",
   "nbconvert_exporter": "python",
   "pygments_lexer": "ipython3",
   "version": "3.8.0"
  }
 },
 "nbformat": 4,
 "nbformat_minor": 1
}