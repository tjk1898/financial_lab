{
 "cells": [
  {
   "cell_type": "code",
   "execution_count": null,
   "metadata": {},
   "outputs": [],
   "source": [
    "from util.util import *\n",
    "from util.drawer import *\n",
    "from strategy.Bolling import *\n",
    "from strategy.Runner import Runner\n",
    "from strategy.Strategy import Strategy"
   ]
  },
  {
   "cell_type": "code",
   "execution_count": null,
   "metadata": {
    "pycharm": {
     "name": "#%%\n"
    }
   },
   "outputs": [],
   "source": [
    "price = pd.read_csv('/Users/jinkun.tian/gitee/financial_lab/AKshareTest/continue_rise/data/sh601088.csv')\n",
    "price.rename(columns={'amount':'turnover'},inplace=True)\n",
    "del price[price.columns[0]]\n",
    "\n",
    "#\n",
    "\n",
    "df = price.copy()\n",
    "df.dropna(inplace=True)\n",
    "\n",
    "\n",
    "# 初始化策略\n",
    "bollingV1 = BollingV1()\n",
    "bollingV2 = BollingV2()\n",
    "\n",
    "# 调用running\n",
    "runner = Runner()\n",
    "runner.df = df\n",
    "runner.strategys.append(bollingV2)\n",
    "runner.start_index = 1\n",
    "\n",
    "runner.running()\n",
    "\n",
    "trades = Strategy.global_context['trades']"
   ]
  },
  {
   "cell_type": "code",
   "execution_count": null,
   "metadata": {},
   "outputs": [],
   "source": [
    "k_graph = draw_K(df,trades=trades)"
   ]
  },
  {
   "cell_type": "code",
   "execution_count": null,
   "metadata": {},
   "outputs": [],
   "source": [
    "k_graph.render_notebook()"
   ]
  },
  {
   "cell_type": "code",
   "execution_count": null,
   "metadata": {},
   "outputs": [],
   "source": [
    "trades"
   ]
  },
  {
   "cell_type": "code",
   "execution_count": null,
   "metadata": {
    "pycharm": {
     "name": "#%%\n"
    }
   },
   "outputs": [],
   "source": [
    "trades_df = pd.DataFrame(trades)\n",
    "trades_df"
   ]
  },
  {
   "cell_type": "code",
   "execution_count": null,
   "metadata": {
    "pycharm": {
     "name": "#%%\n"
    }
   },
   "outputs": [],
   "source": [
    "trade_data = pd.merge(price['date'],trades_df[['sell_day','profit','own_money']],how='left',left_on='date',right_on='sell_day',left_index=False, right_index=False, )"
   ]
  },
  {
   "cell_type": "code",
   "execution_count": null,
   "metadata": {
    "pycharm": {
     "name": "#%%\n"
    }
   },
   "outputs": [],
   "source": [
    "last_profit = None\n",
    "last_own_money = 10000\n",
    "for i in trade_data.index:\n",
    "    if pd.isna(trade_data.loc[i,'profit']):\n",
    "        trade_data.loc[i,'profit'] = last_profit\n",
    "    else:\n",
    "        last_profit = trade_data.loc[i,'profit']\n",
    "\n",
    "    if pd.isna(trade_data.loc[i,'own_money']):\n",
    "        trade_data.loc[i,'own_money'] = last_own_money\n",
    "    else:\n",
    "        last_own_money = trade_data.loc[i,'own_money']\n",
    "trade_data"
   ]
  },
  {
   "cell_type": "code",
   "execution_count": null,
   "metadata": {
    "pycharm": {
     "name": "#%%\n"
    }
   },
   "outputs": [],
   "source": [
    "from util.drawer import *"
   ]
  },
  {
   "cell_type": "code",
   "execution_count": null,
   "metadata": {
    "pycharm": {
     "name": "#%%\n"
    }
   },
   "outputs": [],
   "source": [
    "line= get_line(trade_data,'own_money','资金所有量')\n",
    "line.render_notebook()\n",
    "\n"
   ]
  },
  {
   "cell_type": "code",
   "execution_count": null,
   "metadata": {},
   "outputs": [],
   "source": []
  }
 ],
 "metadata": {
  "kernelspec": {
   "display_name": "Python 3 (ipykernel)",
   "language": "python",
   "name": "python3"
  },
  "language_info": {
   "codemirror_mode": {
    "name": "ipython",
    "version": 3
   },
   "file_extension": ".py",
   "mimetype": "text/x-python",
   "name": "python",
   "nbconvert_exporter": "python",
   "pygments_lexer": "ipython3",
   "version": "3.8.0"
  }
 },
 "nbformat": 4,
 "nbformat_minor": 1
}
